{
  "cells": [
    {
      "cell_type": "markdown",
      "metadata": {
        "id": "AL5j87OZ1R7O"
      },
      "source": [
        "PROJECT 3 : **Medical Text Classification**"
      ]
    },
    {
      "cell_type": "markdown",
      "metadata": {
        "id": "cgQLNtOX1jeQ"
      },
      "source": [
        "The goal of this project is to build a system for Medical Text Classification.\n",
        "The input is a medical transcript and the output is one of four categories:\n",
        "* Surgery (1)\n",
        "* Medical Records (2)\n",
        "* Internal Medicine (3)\n",
        "* Other (4)\n",
        "\n",
        "Since medical transcripts are variable-length texts, we need to convert them into fixed-length numerical vectors before applying classification algorithms."
      ]
    },
    {
      "cell_type": "markdown",
      "metadata": {
        "id": "eqtdKg0j3Bsh"
      },
      "source": [
        "\n",
        "Step 1 : Load datasets :\n",
        "\n",
        " Each file contain: text (medical transcript) and label (class number)"
      ]
    },
    {
      "cell_type": "code",
      "execution_count": null,
      "metadata": {
        "colab": {
          "base_uri": "https://localhost:8080/",
          "height": 184
        },
        "id": "aKe7P8PwP6me",
        "outputId": "9f153e89-db4f-494e-c6c8-f3f5d52fb0bf"
      },
      "outputs": [
        {
          "data": {
            "text/html": [
              "\n",
              "     <input type=\"file\" id=\"files-c76953ef-5876-4f32-863d-75e46edaff59\" name=\"files[]\" multiple disabled\n",
              "        style=\"border:none\" />\n",
              "     <output id=\"result-c76953ef-5876-4f32-863d-75e46edaff59\">\n",
              "      Upload widget is only available when the cell has been executed in the\n",
              "      current browser session. Please rerun this cell to enable.\n",
              "      </output>\n",
              "      <script>// Copyright 2017 Google LLC\n",
              "//\n",
              "// Licensed under the Apache License, Version 2.0 (the \"License\");\n",
              "// you may not use this file except in compliance with the License.\n",
              "// You may obtain a copy of the License at\n",
              "//\n",
              "//      http://www.apache.org/licenses/LICENSE-2.0\n",
              "//\n",
              "// Unless required by applicable law or agreed to in writing, software\n",
              "// distributed under the License is distributed on an \"AS IS\" BASIS,\n",
              "// WITHOUT WARRANTIES OR CONDITIONS OF ANY KIND, either express or implied.\n",
              "// See the License for the specific language governing permissions and\n",
              "// limitations under the License.\n",
              "\n",
              "/**\n",
              " * @fileoverview Helpers for google.colab Python module.\n",
              " */\n",
              "(function(scope) {\n",
              "function span(text, styleAttributes = {}) {\n",
              "  const element = document.createElement('span');\n",
              "  element.textContent = text;\n",
              "  for (const key of Object.keys(styleAttributes)) {\n",
              "    element.style[key] = styleAttributes[key];\n",
              "  }\n",
              "  return element;\n",
              "}\n",
              "\n",
              "// Max number of bytes which will be uploaded at a time.\n",
              "const MAX_PAYLOAD_SIZE = 100 * 1024;\n",
              "\n",
              "function _uploadFiles(inputId, outputId) {\n",
              "  const steps = uploadFilesStep(inputId, outputId);\n",
              "  const outputElement = document.getElementById(outputId);\n",
              "  // Cache steps on the outputElement to make it available for the next call\n",
              "  // to uploadFilesContinue from Python.\n",
              "  outputElement.steps = steps;\n",
              "\n",
              "  return _uploadFilesContinue(outputId);\n",
              "}\n",
              "\n",
              "// This is roughly an async generator (not supported in the browser yet),\n",
              "// where there are multiple asynchronous steps and the Python side is going\n",
              "// to poll for completion of each step.\n",
              "// This uses a Promise to block the python side on completion of each step,\n",
              "// then passes the result of the previous step as the input to the next step.\n",
              "function _uploadFilesContinue(outputId) {\n",
              "  const outputElement = document.getElementById(outputId);\n",
              "  const steps = outputElement.steps;\n",
              "\n",
              "  const next = steps.next(outputElement.lastPromiseValue);\n",
              "  return Promise.resolve(next.value.promise).then((value) => {\n",
              "    // Cache the last promise value to make it available to the next\n",
              "    // step of the generator.\n",
              "    outputElement.lastPromiseValue = value;\n",
              "    return next.value.response;\n",
              "  });\n",
              "}\n",
              "\n",
              "/**\n",
              " * Generator function which is called between each async step of the upload\n",
              " * process.\n",
              " * @param {string} inputId Element ID of the input file picker element.\n",
              " * @param {string} outputId Element ID of the output display.\n",
              " * @return {!Iterable<!Object>} Iterable of next steps.\n",
              " */\n",
              "function* uploadFilesStep(inputId, outputId) {\n",
              "  const inputElement = document.getElementById(inputId);\n",
              "  inputElement.disabled = false;\n",
              "\n",
              "  const outputElement = document.getElementById(outputId);\n",
              "  outputElement.innerHTML = '';\n",
              "\n",
              "  const pickedPromise = new Promise((resolve) => {\n",
              "    inputElement.addEventListener('change', (e) => {\n",
              "      resolve(e.target.files);\n",
              "    });\n",
              "  });\n",
              "\n",
              "  const cancel = document.createElement('button');\n",
              "  inputElement.parentElement.appendChild(cancel);\n",
              "  cancel.textContent = 'Cancel upload';\n",
              "  const cancelPromise = new Promise((resolve) => {\n",
              "    cancel.onclick = () => {\n",
              "      resolve(null);\n",
              "    };\n",
              "  });\n",
              "\n",
              "  // Wait for the user to pick the files.\n",
              "  const files = yield {\n",
              "    promise: Promise.race([pickedPromise, cancelPromise]),\n",
              "    response: {\n",
              "      action: 'starting',\n",
              "    }\n",
              "  };\n",
              "\n",
              "  cancel.remove();\n",
              "\n",
              "  // Disable the input element since further picks are not allowed.\n",
              "  inputElement.disabled = true;\n",
              "\n",
              "  if (!files) {\n",
              "    return {\n",
              "      response: {\n",
              "        action: 'complete',\n",
              "      }\n",
              "    };\n",
              "  }\n",
              "\n",
              "  for (const file of files) {\n",
              "    const li = document.createElement('li');\n",
              "    li.append(span(file.name, {fontWeight: 'bold'}));\n",
              "    li.append(span(\n",
              "        `(${file.type || 'n/a'}) - ${file.size} bytes, ` +\n",
              "        `last modified: ${\n",
              "            file.lastModifiedDate ? file.lastModifiedDate.toLocaleDateString() :\n",
              "                                    'n/a'} - `));\n",
              "    const percent = span('0% done');\n",
              "    li.appendChild(percent);\n",
              "\n",
              "    outputElement.appendChild(li);\n",
              "\n",
              "    const fileDataPromise = new Promise((resolve) => {\n",
              "      const reader = new FileReader();\n",
              "      reader.onload = (e) => {\n",
              "        resolve(e.target.result);\n",
              "      };\n",
              "      reader.readAsArrayBuffer(file);\n",
              "    });\n",
              "    // Wait for the data to be ready.\n",
              "    let fileData = yield {\n",
              "      promise: fileDataPromise,\n",
              "      response: {\n",
              "        action: 'continue',\n",
              "      }\n",
              "    };\n",
              "\n",
              "    // Use a chunked sending to avoid message size limits. See b/62115660.\n",
              "    let position = 0;\n",
              "    do {\n",
              "      const length = Math.min(fileData.byteLength - position, MAX_PAYLOAD_SIZE);\n",
              "      const chunk = new Uint8Array(fileData, position, length);\n",
              "      position += length;\n",
              "\n",
              "      const base64 = btoa(String.fromCharCode.apply(null, chunk));\n",
              "      yield {\n",
              "        response: {\n",
              "          action: 'append',\n",
              "          file: file.name,\n",
              "          data: base64,\n",
              "        },\n",
              "      };\n",
              "\n",
              "      let percentDone = fileData.byteLength === 0 ?\n",
              "          100 :\n",
              "          Math.round((position / fileData.byteLength) * 100);\n",
              "      percent.textContent = `${percentDone}% done`;\n",
              "\n",
              "    } while (position < fileData.byteLength);\n",
              "  }\n",
              "\n",
              "  // All done.\n",
              "  yield {\n",
              "    response: {\n",
              "      action: 'complete',\n",
              "    }\n",
              "  };\n",
              "}\n",
              "\n",
              "scope.google = scope.google || {};\n",
              "scope.google.colab = scope.google.colab || {};\n",
              "scope.google.colab._files = {\n",
              "  _uploadFiles,\n",
              "  _uploadFilesContinue,\n",
              "};\n",
              "})(self);\n",
              "</script> "
            ],
            "text/plain": [
              "<IPython.core.display.HTML object>"
            ]
          },
          "metadata": {},
          "output_type": "display_data"
        },
        {
          "name": "stdout",
          "output_type": "stream",
          "text": [
            "Saving train.csv to train.csv\n"
          ]
        },
        {
          "data": {
            "text/html": [
              "\n",
              "     <input type=\"file\" id=\"files-982d130d-3aab-478b-be4e-3418d964d9a2\" name=\"files[]\" multiple disabled\n",
              "        style=\"border:none\" />\n",
              "     <output id=\"result-982d130d-3aab-478b-be4e-3418d964d9a2\">\n",
              "      Upload widget is only available when the cell has been executed in the\n",
              "      current browser session. Please rerun this cell to enable.\n",
              "      </output>\n",
              "      <script>// Copyright 2017 Google LLC\n",
              "//\n",
              "// Licensed under the Apache License, Version 2.0 (the \"License\");\n",
              "// you may not use this file except in compliance with the License.\n",
              "// You may obtain a copy of the License at\n",
              "//\n",
              "//      http://www.apache.org/licenses/LICENSE-2.0\n",
              "//\n",
              "// Unless required by applicable law or agreed to in writing, software\n",
              "// distributed under the License is distributed on an \"AS IS\" BASIS,\n",
              "// WITHOUT WARRANTIES OR CONDITIONS OF ANY KIND, either express or implied.\n",
              "// See the License for the specific language governing permissions and\n",
              "// limitations under the License.\n",
              "\n",
              "/**\n",
              " * @fileoverview Helpers for google.colab Python module.\n",
              " */\n",
              "(function(scope) {\n",
              "function span(text, styleAttributes = {}) {\n",
              "  const element = document.createElement('span');\n",
              "  element.textContent = text;\n",
              "  for (const key of Object.keys(styleAttributes)) {\n",
              "    element.style[key] = styleAttributes[key];\n",
              "  }\n",
              "  return element;\n",
              "}\n",
              "\n",
              "// Max number of bytes which will be uploaded at a time.\n",
              "const MAX_PAYLOAD_SIZE = 100 * 1024;\n",
              "\n",
              "function _uploadFiles(inputId, outputId) {\n",
              "  const steps = uploadFilesStep(inputId, outputId);\n",
              "  const outputElement = document.getElementById(outputId);\n",
              "  // Cache steps on the outputElement to make it available for the next call\n",
              "  // to uploadFilesContinue from Python.\n",
              "  outputElement.steps = steps;\n",
              "\n",
              "  return _uploadFilesContinue(outputId);\n",
              "}\n",
              "\n",
              "// This is roughly an async generator (not supported in the browser yet),\n",
              "// where there are multiple asynchronous steps and the Python side is going\n",
              "// to poll for completion of each step.\n",
              "// This uses a Promise to block the python side on completion of each step,\n",
              "// then passes the result of the previous step as the input to the next step.\n",
              "function _uploadFilesContinue(outputId) {\n",
              "  const outputElement = document.getElementById(outputId);\n",
              "  const steps = outputElement.steps;\n",
              "\n",
              "  const next = steps.next(outputElement.lastPromiseValue);\n",
              "  return Promise.resolve(next.value.promise).then((value) => {\n",
              "    // Cache the last promise value to make it available to the next\n",
              "    // step of the generator.\n",
              "    outputElement.lastPromiseValue = value;\n",
              "    return next.value.response;\n",
              "  });\n",
              "}\n",
              "\n",
              "/**\n",
              " * Generator function which is called between each async step of the upload\n",
              " * process.\n",
              " * @param {string} inputId Element ID of the input file picker element.\n",
              " * @param {string} outputId Element ID of the output display.\n",
              " * @return {!Iterable<!Object>} Iterable of next steps.\n",
              " */\n",
              "function* uploadFilesStep(inputId, outputId) {\n",
              "  const inputElement = document.getElementById(inputId);\n",
              "  inputElement.disabled = false;\n",
              "\n",
              "  const outputElement = document.getElementById(outputId);\n",
              "  outputElement.innerHTML = '';\n",
              "\n",
              "  const pickedPromise = new Promise((resolve) => {\n",
              "    inputElement.addEventListener('change', (e) => {\n",
              "      resolve(e.target.files);\n",
              "    });\n",
              "  });\n",
              "\n",
              "  const cancel = document.createElement('button');\n",
              "  inputElement.parentElement.appendChild(cancel);\n",
              "  cancel.textContent = 'Cancel upload';\n",
              "  const cancelPromise = new Promise((resolve) => {\n",
              "    cancel.onclick = () => {\n",
              "      resolve(null);\n",
              "    };\n",
              "  });\n",
              "\n",
              "  // Wait for the user to pick the files.\n",
              "  const files = yield {\n",
              "    promise: Promise.race([pickedPromise, cancelPromise]),\n",
              "    response: {\n",
              "      action: 'starting',\n",
              "    }\n",
              "  };\n",
              "\n",
              "  cancel.remove();\n",
              "\n",
              "  // Disable the input element since further picks are not allowed.\n",
              "  inputElement.disabled = true;\n",
              "\n",
              "  if (!files) {\n",
              "    return {\n",
              "      response: {\n",
              "        action: 'complete',\n",
              "      }\n",
              "    };\n",
              "  }\n",
              "\n",
              "  for (const file of files) {\n",
              "    const li = document.createElement('li');\n",
              "    li.append(span(file.name, {fontWeight: 'bold'}));\n",
              "    li.append(span(\n",
              "        `(${file.type || 'n/a'}) - ${file.size} bytes, ` +\n",
              "        `last modified: ${\n",
              "            file.lastModifiedDate ? file.lastModifiedDate.toLocaleDateString() :\n",
              "                                    'n/a'} - `));\n",
              "    const percent = span('0% done');\n",
              "    li.appendChild(percent);\n",
              "\n",
              "    outputElement.appendChild(li);\n",
              "\n",
              "    const fileDataPromise = new Promise((resolve) => {\n",
              "      const reader = new FileReader();\n",
              "      reader.onload = (e) => {\n",
              "        resolve(e.target.result);\n",
              "      };\n",
              "      reader.readAsArrayBuffer(file);\n",
              "    });\n",
              "    // Wait for the data to be ready.\n",
              "    let fileData = yield {\n",
              "      promise: fileDataPromise,\n",
              "      response: {\n",
              "        action: 'continue',\n",
              "      }\n",
              "    };\n",
              "\n",
              "    // Use a chunked sending to avoid message size limits. See b/62115660.\n",
              "    let position = 0;\n",
              "    do {\n",
              "      const length = Math.min(fileData.byteLength - position, MAX_PAYLOAD_SIZE);\n",
              "      const chunk = new Uint8Array(fileData, position, length);\n",
              "      position += length;\n",
              "\n",
              "      const base64 = btoa(String.fromCharCode.apply(null, chunk));\n",
              "      yield {\n",
              "        response: {\n",
              "          action: 'append',\n",
              "          file: file.name,\n",
              "          data: base64,\n",
              "        },\n",
              "      };\n",
              "\n",
              "      let percentDone = fileData.byteLength === 0 ?\n",
              "          100 :\n",
              "          Math.round((position / fileData.byteLength) * 100);\n",
              "      percent.textContent = `${percentDone}% done`;\n",
              "\n",
              "    } while (position < fileData.byteLength);\n",
              "  }\n",
              "\n",
              "  // All done.\n",
              "  yield {\n",
              "    response: {\n",
              "      action: 'complete',\n",
              "    }\n",
              "  };\n",
              "}\n",
              "\n",
              "scope.google = scope.google || {};\n",
              "scope.google.colab = scope.google.colab || {};\n",
              "scope.google.colab._files = {\n",
              "  _uploadFiles,\n",
              "  _uploadFilesContinue,\n",
              "};\n",
              "})(self);\n",
              "</script> "
            ],
            "text/plain": [
              "<IPython.core.display.HTML object>"
            ]
          },
          "metadata": {},
          "output_type": "display_data"
        },
        {
          "name": "stdout",
          "output_type": "stream",
          "text": [
            "Saving valid.csv to valid.csv\n"
          ]
        },
        {
          "data": {
            "text/html": [
              "\n",
              "     <input type=\"file\" id=\"files-f89ccfaf-86d9-4cbf-803b-e089c1bcaf87\" name=\"files[]\" multiple disabled\n",
              "        style=\"border:none\" />\n",
              "     <output id=\"result-f89ccfaf-86d9-4cbf-803b-e089c1bcaf87\">\n",
              "      Upload widget is only available when the cell has been executed in the\n",
              "      current browser session. Please rerun this cell to enable.\n",
              "      </output>\n",
              "      <script>// Copyright 2017 Google LLC\n",
              "//\n",
              "// Licensed under the Apache License, Version 2.0 (the \"License\");\n",
              "// you may not use this file except in compliance with the License.\n",
              "// You may obtain a copy of the License at\n",
              "//\n",
              "//      http://www.apache.org/licenses/LICENSE-2.0\n",
              "//\n",
              "// Unless required by applicable law or agreed to in writing, software\n",
              "// distributed under the License is distributed on an \"AS IS\" BASIS,\n",
              "// WITHOUT WARRANTIES OR CONDITIONS OF ANY KIND, either express or implied.\n",
              "// See the License for the specific language governing permissions and\n",
              "// limitations under the License.\n",
              "\n",
              "/**\n",
              " * @fileoverview Helpers for google.colab Python module.\n",
              " */\n",
              "(function(scope) {\n",
              "function span(text, styleAttributes = {}) {\n",
              "  const element = document.createElement('span');\n",
              "  element.textContent = text;\n",
              "  for (const key of Object.keys(styleAttributes)) {\n",
              "    element.style[key] = styleAttributes[key];\n",
              "  }\n",
              "  return element;\n",
              "}\n",
              "\n",
              "// Max number of bytes which will be uploaded at a time.\n",
              "const MAX_PAYLOAD_SIZE = 100 * 1024;\n",
              "\n",
              "function _uploadFiles(inputId, outputId) {\n",
              "  const steps = uploadFilesStep(inputId, outputId);\n",
              "  const outputElement = document.getElementById(outputId);\n",
              "  // Cache steps on the outputElement to make it available for the next call\n",
              "  // to uploadFilesContinue from Python.\n",
              "  outputElement.steps = steps;\n",
              "\n",
              "  return _uploadFilesContinue(outputId);\n",
              "}\n",
              "\n",
              "// This is roughly an async generator (not supported in the browser yet),\n",
              "// where there are multiple asynchronous steps and the Python side is going\n",
              "// to poll for completion of each step.\n",
              "// This uses a Promise to block the python side on completion of each step,\n",
              "// then passes the result of the previous step as the input to the next step.\n",
              "function _uploadFilesContinue(outputId) {\n",
              "  const outputElement = document.getElementById(outputId);\n",
              "  const steps = outputElement.steps;\n",
              "\n",
              "  const next = steps.next(outputElement.lastPromiseValue);\n",
              "  return Promise.resolve(next.value.promise).then((value) => {\n",
              "    // Cache the last promise value to make it available to the next\n",
              "    // step of the generator.\n",
              "    outputElement.lastPromiseValue = value;\n",
              "    return next.value.response;\n",
              "  });\n",
              "}\n",
              "\n",
              "/**\n",
              " * Generator function which is called between each async step of the upload\n",
              " * process.\n",
              " * @param {string} inputId Element ID of the input file picker element.\n",
              " * @param {string} outputId Element ID of the output display.\n",
              " * @return {!Iterable<!Object>} Iterable of next steps.\n",
              " */\n",
              "function* uploadFilesStep(inputId, outputId) {\n",
              "  const inputElement = document.getElementById(inputId);\n",
              "  inputElement.disabled = false;\n",
              "\n",
              "  const outputElement = document.getElementById(outputId);\n",
              "  outputElement.innerHTML = '';\n",
              "\n",
              "  const pickedPromise = new Promise((resolve) => {\n",
              "    inputElement.addEventListener('change', (e) => {\n",
              "      resolve(e.target.files);\n",
              "    });\n",
              "  });\n",
              "\n",
              "  const cancel = document.createElement('button');\n",
              "  inputElement.parentElement.appendChild(cancel);\n",
              "  cancel.textContent = 'Cancel upload';\n",
              "  const cancelPromise = new Promise((resolve) => {\n",
              "    cancel.onclick = () => {\n",
              "      resolve(null);\n",
              "    };\n",
              "  });\n",
              "\n",
              "  // Wait for the user to pick the files.\n",
              "  const files = yield {\n",
              "    promise: Promise.race([pickedPromise, cancelPromise]),\n",
              "    response: {\n",
              "      action: 'starting',\n",
              "    }\n",
              "  };\n",
              "\n",
              "  cancel.remove();\n",
              "\n",
              "  // Disable the input element since further picks are not allowed.\n",
              "  inputElement.disabled = true;\n",
              "\n",
              "  if (!files) {\n",
              "    return {\n",
              "      response: {\n",
              "        action: 'complete',\n",
              "      }\n",
              "    };\n",
              "  }\n",
              "\n",
              "  for (const file of files) {\n",
              "    const li = document.createElement('li');\n",
              "    li.append(span(file.name, {fontWeight: 'bold'}));\n",
              "    li.append(span(\n",
              "        `(${file.type || 'n/a'}) - ${file.size} bytes, ` +\n",
              "        `last modified: ${\n",
              "            file.lastModifiedDate ? file.lastModifiedDate.toLocaleDateString() :\n",
              "                                    'n/a'} - `));\n",
              "    const percent = span('0% done');\n",
              "    li.appendChild(percent);\n",
              "\n",
              "    outputElement.appendChild(li);\n",
              "\n",
              "    const fileDataPromise = new Promise((resolve) => {\n",
              "      const reader = new FileReader();\n",
              "      reader.onload = (e) => {\n",
              "        resolve(e.target.result);\n",
              "      };\n",
              "      reader.readAsArrayBuffer(file);\n",
              "    });\n",
              "    // Wait for the data to be ready.\n",
              "    let fileData = yield {\n",
              "      promise: fileDataPromise,\n",
              "      response: {\n",
              "        action: 'continue',\n",
              "      }\n",
              "    };\n",
              "\n",
              "    // Use a chunked sending to avoid message size limits. See b/62115660.\n",
              "    let position = 0;\n",
              "    do {\n",
              "      const length = Math.min(fileData.byteLength - position, MAX_PAYLOAD_SIZE);\n",
              "      const chunk = new Uint8Array(fileData, position, length);\n",
              "      position += length;\n",
              "\n",
              "      const base64 = btoa(String.fromCharCode.apply(null, chunk));\n",
              "      yield {\n",
              "        response: {\n",
              "          action: 'append',\n",
              "          file: file.name,\n",
              "          data: base64,\n",
              "        },\n",
              "      };\n",
              "\n",
              "      let percentDone = fileData.byteLength === 0 ?\n",
              "          100 :\n",
              "          Math.round((position / fileData.byteLength) * 100);\n",
              "      percent.textContent = `${percentDone}% done`;\n",
              "\n",
              "    } while (position < fileData.byteLength);\n",
              "  }\n",
              "\n",
              "  // All done.\n",
              "  yield {\n",
              "    response: {\n",
              "      action: 'complete',\n",
              "    }\n",
              "  };\n",
              "}\n",
              "\n",
              "scope.google = scope.google || {};\n",
              "scope.google.colab = scope.google.colab || {};\n",
              "scope.google.colab._files = {\n",
              "  _uploadFiles,\n",
              "  _uploadFilesContinue,\n",
              "};\n",
              "})(self);\n",
              "</script> "
            ],
            "text/plain": [
              "<IPython.core.display.HTML object>"
            ]
          },
          "metadata": {},
          "output_type": "display_data"
        },
        {
          "name": "stdout",
          "output_type": "stream",
          "text": [
            "Saving test.csv to test.csv\n"
          ]
        }
      ],
      "source": [
        "from google.colab import files\n",
        "uploaded_train=files.upload()\n",
        "uploaded_validation=files.upload()\n",
        "uploaded_test=files.upload()"
      ]
    },
    {
      "cell_type": "code",
      "execution_count": null,
      "metadata": {
        "colab": {
          "base_uri": "https://localhost:8080/"
        },
        "id": "L1gXmknBfTh5",
        "outputId": "f975749e-3534-47e4-93c2-3d47f1ded7b2"
      },
      "outputs": [
        {
          "name": "stdout",
          "output_type": "stream",
          "text": [
            "   label                                               text\n",
            "0      2  2-D STUDY,1. Mild aortic stenosis, widely calc...\n",
            "1      1  PREOPERATIVE DIAGNOSES: , Dysphagia and esopha...\n",
            "2      2  CHIEF COMPLAINT:,  The patient comes for three...\n",
            "3      1  PROCEDURE: , Bilateral L5, S1, S2, and S3 radi...\n",
            "4      2  DISCHARGE DIAGNOSES:,1. Chronic obstructive pu...\n"
          ]
        }
      ],
      "source": [
        "import pandas as pd\n",
        "train = pd.read_csv(\"train.csv\")\n",
        "valid = pd.read_csv(\"valid.csv\")\n",
        "test  = pd.read_csv(\"test.csv\")\n",
        "\n",
        "print(train.head())\n"
      ]
    },
    {
      "cell_type": "markdown",
      "metadata": {
        "id": "aEWLVnf66hn-"
      },
      "source": [
        "Step 2: Data Preprocessing :\n",
        "\n",
        "To improve model performance, several preprocessing steps were applied:\n",
        "\n",
        "* Lowercasing: convert all words to lowercase.\n",
        "* Removing punctuation and numbers using regular expressions.\n",
        "* Stopword removal: removing frequent words with little semantic meaning (e.g., the, and, of)."
      ]
    },
    {
      "cell_type": "code",
      "execution_count": null,
      "metadata": {
        "id": "AubQy8X5iG20"
      },
      "outputs": [],
      "source": [
        "import re\n",
        "def preprocess(text):\n",
        "    text = text.lower()\n",
        "    text = re.sub(r\"[^a-z\\s]\", \"\", text)\n",
        "    text = re.sub(r\"\\s+\", \" \", text)\n",
        "    return text.strip()\n",
        "train[\"text\"] = train[\"text\"].apply(preprocess)\n",
        "valid[\"text\"] = valid[\"text\"].apply(preprocess)\n",
        "test[\"text\"]  = test[\"text\"].apply(preprocess)"
      ]
    },
    {
      "cell_type": "markdown",
      "metadata": {
        "id": "pJeQBQ5_7XhK"
      },
      "source": [
        "Step 3: Vocabulary Construction :\n",
        "* Vocabulary was built only from the training set.\n",
        "* The top 10,000 most frequent words were selected.\n",
        "* Each word was assigned a unique ID (starting from 1)\n"
      ]
    },
    {
      "cell_type": "code",
      "execution_count": null,
      "metadata": {
        "id": "s6k0haWLk6ef"
      },
      "outputs": [],
      "source": [
        "from collections import Counter\n",
        "all_tokens = \" \".join(train[\"text\"]).split()\n",
        "counter = Counter(all_tokens)\n",
        "TOP_K = 10000\n",
        "most_common = counter.most_common(TOP_K)\n",
        "vocab = {word: idx for idx, (word, freq) in enumerate(most_common, start=1)}\n"
      ]
    },
    {
      "cell_type": "markdown",
      "metadata": {
        "id": "c81oF8Ao7-v_"
      },
      "source": [
        "Save vocab file (format: word \\ ID \\ frequency) :"
      ]
    },
    {
      "cell_type": "code",
      "execution_count": null,
      "metadata": {
        "id": "aU1H3DkBpHiC"
      },
      "outputs": [],
      "source": [
        "with open(\"vocab.txt\", \"w\", encoding=\"utf-8\") as f:\n",
        "    for idx, (word, freq) in enumerate(most_common, start=1):\n",
        "        f.write(f\"{word}\\t{idx}\\t{freq}\\n\")"
      ]
    },
    {
      "cell_type": "markdown",
      "metadata": {
        "id": "vcW1zYxW-A1D"
      },
      "source": [
        "Convert text to ID sequences (for saving train/valid/test) :"
      ]
    },
    {
      "cell_type": "code",
      "execution_count": null,
      "metadata": {
        "id": "AF2qqRDBpiCX"
      },
      "outputs": [],
      "source": [
        "def text_to_id_sequence(text, vocab):\n",
        "    return \" \".join(str(vocab[w]) for w in text.split() if w in vocab)\n",
        "\n",
        "def write_id_file(df, out_path, vocab):\n",
        "    with open(out_path, \"w\", encoding=\"utf-8\") as f:\n",
        "        for _, row in df.iterrows():\n",
        "            ids = text_to_id_sequence(row[\"text\"], vocab)\n",
        "            f.write(f\"{ids}\\t{row['label']}\\n\")\n",
        "\n",
        "write_id_file(train, \"train_ids.txt\", vocab)\n",
        "write_id_file(valid, \"valid_ids.txt\", vocab)\n",
        "write_id_file(test, \"test_ids.txt\", vocab)"
      ]
    },
    {
      "cell_type": "markdown",
      "metadata": {
        "id": "7ywKTz7S8k4n"
      },
      "source": [
        "Step 4 : Text Vectorization :\n",
        "\n",
        "Two main Bag-of-Words (BoW) representations were used:\n",
        "\n",
        "1. Binary Bag-of-Words (BBoW)\n",
        "\n",
        "* If a word appears in the text → 1\n",
        "\n",
        "* If not → 0\n",
        "\n",
        "* roduces a 10,000-dimensional binary vector.\n",
        "\n",
        "2. Frequency Bag-of-Words (FBoW)\n",
        "\n",
        "* Word count / Total number of words in the text\n",
        "\n",
        "* Normalized so that the vector sums to 1."
      ]
    },
    {
      "cell_type": "code",
      "execution_count": null,
      "metadata": {
        "id": "rmVVDABGmmAm"
      },
      "outputs": [],
      "source": [
        "import numpy as np\n",
        "def text_to_bbow(text, vocab):\n",
        "    vec = np.zeros(max(vocab.values()) + 1)\n",
        "    for word in set(text.split()):\n",
        "        if word in vocab:\n",
        "            vec[vocab[word]] = 1\n",
        "    return vec"
      ]
    },
    {
      "cell_type": "code",
      "execution_count": null,
      "metadata": {
        "id": "lA12y-uvmtaO"
      },
      "outputs": [],
      "source": [
        "def text_to_fbow(text, vocab):\n",
        "    vec = np.zeros(max(vocab.values()) + 1)\n",
        "    words = text.split()\n",
        "    for word in words:\n",
        "        if word in vocab:\n",
        "            vec[vocab[word]] += 1\n",
        "    if len(words) > 0:\n",
        "        vec /= len(words)\n",
        "    return vec"
      ]
    },
    {
      "cell_type": "markdown",
      "metadata": {
        "id": "j8g1ywS49vZ2"
      },
      "source": [
        "Step 5 : Build feature matrices :\n"
      ]
    },
    {
      "cell_type": "code",
      "execution_count": null,
      "metadata": {
        "id": "1yOJORy6nXA5"
      },
      "outputs": [],
      "source": [
        "X_train_bbow = np.array([text_to_bbow(t, vocab) for t in train[\"text\"]])\n",
        "X_valid_bbow = np.array([text_to_bbow(t, vocab) for t in valid[\"text\"]])\n",
        "X_test_bbow  = np.array([text_to_bbow(t, vocab) for t in test[\"text\"]])\n",
        "X_train_fbow = np.array([text_to_fbow(t, vocab) for t in train[\"text\"]])\n",
        "X_valid_fbow = np.array([text_to_fbow(t, vocab) for t in valid[\"text\"]])\n",
        "X_test_fbow  = np.array([text_to_fbow(t, vocab) for t in test[\"text\"]])\n",
        "\n",
        "y_train, y_valid, y_test = train[\"label\"], valid[\"label\"], test[\"label\"]\n"
      ]
    },
    {
      "cell_type": "markdown",
      "metadata": {
        "id": "UlcEK3Ca-gCS"
      },
      "source": [
        "Step 8: Define models :\n",
        "\n",
        "Four machine learning models were implemented:\n",
        "1. Logistic Regression\n",
        "2. Decision Tree\n",
        "3. Random Forest\n",
        "4. XGBoost"
      ]
    },
    {
      "cell_type": "code",
      "execution_count": null,
      "metadata": {
        "id": "Liw89BVjneHW"
      },
      "outputs": [],
      "source": [
        "from sklearn.linear_model import LogisticRegression\n",
        "from sklearn.tree import DecisionTreeClassifier\n",
        "from sklearn.ensemble import RandomForestClassifier\n",
        "from xgboost import XGBClassifier\n",
        "from sklearn.metrics import f1_score\n",
        "models = {\n",
        "    \"LogReg\": LogisticRegression(max_iter=1000),\n",
        "    \"DecisionTree\": DecisionTreeClassifier(),\n",
        "    \"RandomForest\": RandomForestClassifier(),\n",
        "    \"XGBoost\": XGBClassifier(use_label_encoder=False, eval_metric=\"mlogloss\")\n",
        "}"
      ]
    },
    {
      "cell_type": "markdown",
      "metadata": {
        "id": "SFjmlRHg_dYQ"
      },
      "source": [
        " Fix labels for XGBoost (must start at 0) :\n",
        "\n",
        "(If labels are [1,2,3,4], shift them to [0,1,2,3])"
      ]
    },
    {
      "cell_type": "code",
      "execution_count": null,
      "metadata": {
        "id": "4ep5SNsw_7Qc"
      },
      "outputs": [],
      "source": [
        "y_train = y_train - 1\n",
        "y_valid = y_valid - 1\n",
        "y_test  = y_test - 1"
      ]
    },
    {
      "cell_type": "markdown",
      "metadata": {
        "id": "9iL2cxWu_4z8"
      },
      "source": [
        "step 9 : evaluate with BBoW & FBOW :\n",
        "\n",
        "The performance metric used was Macro F1-score, evaluated on:\n",
        "\n",
        "* Training set\n",
        "\n",
        "* Validation set\n",
        "\n",
        "* Test set\n",
        "\n",
        "\n"
      ]
    },
    {
      "cell_type": "code",
      "execution_count": null,
      "metadata": {
        "id": "FM3ca6GUtz47"
      },
      "outputs": [],
      "source": [
        "def evaluate(models, X_train, X_valid, X_test, y_train, y_valid, y_test):\n",
        "    for name, model in models.items():\n",
        "        print(f\"\\n=== {name} ===\")\n",
        "        model.fit(X_train, y_train)\n",
        "        print(\"F1 (train):\", f1_score(y_train, model.predict(X_train), average=\"macro\"))\n",
        "        print(\"F1 (valid):\", f1_score(y_valid, model.predict(X_valid), average=\"macro\"))\n",
        "        print(\"F1 (test) :\", f1_score(y_test,  model.predict(X_test),  average=\"macro\"))\n"
      ]
    },
    {
      "cell_type": "markdown",
      "metadata": {
        "id": "rytOMmnoBDZ-"
      },
      "source": [
        "evaluate with BBoW :\n",
        "\n"
      ]
    },
    {
      "cell_type": "code",
      "execution_count": null,
      "metadata": {
        "colab": {
          "base_uri": "https://localhost:8080/"
        },
        "id": "bAe6MA_duKBE",
        "outputId": "db367c59-d0b2-4bb4-d450-a2cf0b59a11a"
      },
      "outputs": [
        {
          "name": "stdout",
          "output_type": "stream",
          "text": [
            "\n",
            "=== LogReg ===\n",
            "F1 (train): 0.828009415610148\n",
            "F1 (valid): 0.48763308260785765\n",
            "F1 (test) : 0.5051608543869287\n",
            "\n",
            "=== DecisionTree ===\n",
            "F1 (train): 0.8206086617340784\n",
            "F1 (valid): 0.45309550939599474\n",
            "F1 (test) : 0.47640923211104447\n",
            "\n",
            "=== RandomForest ===\n",
            "F1 (train): 0.8273185059470866\n",
            "F1 (valid): 0.2818059036255939\n",
            "F1 (test) : 0.27586627957473353\n",
            "\n",
            "=== XGBoost ===\n"
          ]
        },
        {
          "name": "stderr",
          "output_type": "stream",
          "text": [
            "/usr/local/lib/python3.12/dist-packages/xgboost/training.py:183: UserWarning: [19:07:53] WARNING: /workspace/src/learner.cc:738: \n",
            "Parameters: { \"use_label_encoder\" } are not used.\n",
            "\n",
            "  bst.update(dtrain, iteration=i, fobj=obj)\n"
          ]
        },
        {
          "name": "stdout",
          "output_type": "stream",
          "text": [
            "F1 (train): 0.82529987931102\n",
            "F1 (valid): 0.5503417733886483\n",
            "F1 (test) : 0.57612047581331\n"
          ]
        }
      ],
      "source": [
        "evaluate(models, X_train_bbow, X_valid_bbow, X_test_bbow, y_train, y_valid, y_test)"
      ]
    },
    {
      "cell_type": "markdown",
      "metadata": {
        "id": "XJmET3JPC2pr"
      },
      "source": [
        "📌 Conclusion:\n",
        "\n",
        "🔹 Logistic Regression\n",
        "\n",
        "* Train F1 ≈ 0.82\n",
        "\n",
        "* Valid/Test F1 ≈ 0.49–0.50\n",
        "\n",
        "The model performs well on training but drops significantly on validation and test → clear overfitting (it memorized patterns from training but fails to generalize).\n",
        "\n",
        "🔹 Decision Tree\n",
        "\n",
        "* Train F1 ≈ 0.82\n",
        "\n",
        "* Valid/Test F1 ≈ 0.45–0.47\n",
        "\n",
        "Very similar to Logistic Regression but slightly worse on validation/test → also overfitting.\n",
        "\n",
        "🔹 Random Forest\n",
        "\n",
        "* Train F1 ≈ 0.82\n",
        "\n",
        "* Valid/Test F1 ≈ 0.27–0.28\n",
        "\n",
        "Performance on validation and test is much worse.\n",
        "The BBoW representation introduces too much noise.\n",
        "Overall, this configuration severely overfits.\n",
        "\n",
        "🔹 XGBoost\n",
        "\n",
        "* Train F1 ≈ 0.82\n",
        "\n",
        "* Valid/Test F1 ≈ 0.55–0.57\n",
        "\n",
        "Best performance among the four models on validation and test.\n",
        "Still some gap between train and test, but much better generalization compared to others.\n"
      ]
    },
    {
      "cell_type": "markdown",
      "metadata": {
        "id": "rJgvIp3KBbRG"
      },
      "source": [
        "evaluate with FBOW :"
      ]
    },
    {
      "cell_type": "code",
      "execution_count": null,
      "metadata": {
        "colab": {
          "base_uri": "https://localhost:8080/"
        },
        "id": "3__hCu8oA-Ks",
        "outputId": "60004bf5-cdbd-4dbf-c25d-d1f09dbcd9ce"
      },
      "outputs": [
        {
          "name": "stdout",
          "output_type": "stream",
          "text": [
            "\n",
            "=== LogReg ===\n",
            "F1 (train): 0.828009415610148\n",
            "F1 (valid): 0.09562398703403566\n",
            "F1 (test) : 0.08471760797342193\n",
            "\n",
            "=== DecisionTree ===\n",
            "F1 (train): 0.8206086617340784\n",
            "F1 (valid): 0.090311986863711\n",
            "F1 (test) : 0.07698815566835872\n",
            "\n",
            "=== RandomForest ===\n",
            "F1 (train): 0.8277925500920866\n",
            "F1 (valid): 0.09562398703403566\n",
            "F1 (test) : 0.08471760797342193\n",
            "\n",
            "=== XGBoost ===\n"
          ]
        },
        {
          "name": "stderr",
          "output_type": "stream",
          "text": [
            "/usr/local/lib/python3.12/dist-packages/xgboost/training.py:183: UserWarning: [19:20:09] WARNING: /workspace/src/learner.cc:738: \n",
            "Parameters: { \"use_label_encoder\" } are not used.\n",
            "\n",
            "  bst.update(dtrain, iteration=i, fobj=obj)\n"
          ]
        },
        {
          "name": "stdout",
          "output_type": "stream",
          "text": [
            "F1 (train): 0.82529987931102\n",
            "F1 (valid): 0.09562398703403566\n",
            "F1 (test) : 0.08471760797342193\n"
          ]
        }
      ],
      "source": [
        "evaluate(models, X_train_bbow, X_valid_fbow, X_test_fbow, y_train, y_valid, y_test)"
      ]
    },
    {
      "cell_type": "markdown",
      "metadata": {
        "id": "nRY8MTHNFe3j"
      },
      "source": [
        "📌 Conclusion:\n",
        "\n",
        "🔹 Logistic Regression\n",
        "\n",
        "* Train F1 ≈ 0.83\n",
        "\n",
        "* Valid/Test F1 ≈ 0.085–0.096\n",
        "\n",
        "The model performs very well on training but drops drastically on validation and test → severe overfitting. The model memorized the training data but fails to generalize.\n",
        "\n",
        "🔹 Decision Tree\n",
        "\n",
        "* Train F1 ≈ 0.82\n",
        "\n",
        "* Valid/Test F1 ≈ 0.077–0.090\n",
        "\n",
        "Slightly worse than Logistic Regression on validation/test. Overfitting is clear, and single trees are unstable with this dataset.\n",
        "\n",
        "🔹 Random Forest\n",
        "\n",
        "* Train F1 ≈ 0.83\n",
        "\n",
        "* Valid/Test F1 ≈ 0.085–0.096\n",
        "\n",
        "Almost identical to Logistic Regression, indicating that bagging didn’t help much → likely the features or class imbalance are limiting performance.\n",
        "\n",
        "🔹 XGBoost\n",
        "\n",
        "* Train F1 ≈ 0.83\n",
        "\n",
        "* Valid/Test F1 ≈ 0.085–0.096\n",
        "\n",
        "Slightly better training F1, but validation/test performance is essentially the same as Logistic Regression/Random Forest."
      ]
    },
    {
      "cell_type": "markdown",
      "metadata": {
        "id": "EZnkmXufGEIT"
      },
      "source": [
        "Step 10 : Hyperparameter Analysis:\n",
        "\n",
        "To better understand model behavior, key hyperparameters were varied, and F1-scores were plotted for train/validation sets."
      ]
    },
    {
      "cell_type": "markdown",
      "metadata": {
        "id": "3NsRWn19Gv8q"
      },
      "source": [
        "1. Logistic Regression :\n",
        "\n",
        "   Hyperparameter→ C\n",
        "\n",
        "   Small C → strong regularization → underfitting\n",
        "\n",
        "   Large C → weak regularization → overfitting"
      ]
    },
    {
      "cell_type": "markdown",
      "metadata": {
        "id": "a3HIoAsRHViD"
      },
      "source": [
        "Find best C (BBOW):"
      ]
    },
    {
      "cell_type": "code",
      "execution_count": null,
      "metadata": {
        "colab": {
          "base_uri": "https://localhost:8080/",
          "height": 476
        },
        "id": "vq16GGV4wuSb",
        "outputId": "c6b34ec9-9625-4463-f2c5-c5a582cfb558"
      },
      "outputs": [
        {
          "data": {
            "image/png": "[encoded data removed]",
            "text/plain": [
              "<Figure size 640x480 with 1 Axes>"
            ]
          },
          "metadata": {},
          "output_type": "display_data"
        }
      ],
      "source": [
        "import matplotlib.pyplot as plt\n",
        "Cs = [0.01, 0.1, 1, 10, 100]\n",
        "train_scores, valid_scores = [], []\n",
        "for c in Cs:\n",
        "    clf = LogisticRegression(C=c, max_iter=1000)\n",
        "    clf.fit(X_train_bbow, y_train)\n",
        "    train_scores.append(f1_score(y_train, clf.predict(X_train_bbow), average=\"macro\"))\n",
        "    valid_scores.append(f1_score(y_valid, clf.predict(X_valid_bbow), average=\"macro\"))\n",
        "plt.plot(Cs, train_scores, marker=\"o\", label=\"Train F1\")\n",
        "plt.plot(Cs, valid_scores, marker=\"o\", label=\"Valid F1\")\n",
        "plt.xscale(\"log\")\n",
        "plt.xlabel(\"C (Log Scale)\")\n",
        "plt.ylabel(\"F1-score\")\n",
        "plt.title(\"Logistic Regression - Effect of C\")\n",
        "plt.legend()\n",
        "plt.show()"
      ]
    },
    {
      "cell_type": "markdown",
      "metadata": {
        "id": "5KGuN68VJwyw"
      },
      "source": [
        "Logistic Regression with best C :\n",
        "* Retrain model on Train + Valid\n",
        "* Evaluate on test set\n",
        "\n"
      ]
    },
    {
      "cell_type": "code",
      "execution_count": null,
      "metadata": {
        "colab": {
          "base_uri": "https://localhost:8080/"
        },
        "id": "eAormVnAJsT8",
        "outputId": "f3b666a0-746c-43ee-b866-a7d25c4f94dd"
      },
      "outputs": [
        {
          "name": "stdout",
          "output_type": "stream",
          "text": [
            "Final Test F1 with best C = 0.4756345405466127\n"
          ]
        }
      ],
      "source": [
        "best_C = 0.1\n",
        "X_combined = np.vstack([X_train_bbow, X_valid_bbow])\n",
        "y_combined = np.hstack([y_train, y_valid])\n",
        "final_model = LogisticRegression(C=best_C, max_iter=1000)\n",
        "final_model.fit(X_combined, y_combined)\n",
        "test_pred = final_model.predict(X_test_bbow)\n",
        "final_test_score = f1_score(y_test, test_pred, average=\"macro\")\n",
        "print(\"Final Test F1 with best C =\", final_test_score)\n"
      ]
    },
    {
      "cell_type": "markdown",
      "metadata": {
        "id": "uLfPwhTYLEnQ"
      },
      "source": [
        "Find best C (FBOW):"
      ]
    },
    {
      "cell_type": "code",
      "execution_count": null,
      "metadata": {
        "colab": {
          "base_uri": "https://localhost:8080/",
          "height": 476
        },
        "id": "NNseibxyE0qF",
        "outputId": "c8057ab6-95c6-47b6-ab36-5d9cf25e1544"
      },
      "outputs": [
        {
          "data": {
            "image/png": "[encoded data removed]",
            "text/plain": [
              "<Figure size 640x480 with 1 Axes>"
            ]
          },
          "metadata": {},
          "output_type": "display_data"
        }
      ],
      "source": [
        "Cs = [0.01, 0.1, 1, 10, 100]\n",
        "train_scores, valid_scores = [], []\n",
        "for c in Cs:\n",
        "    clf = LogisticRegression(C=c, max_iter=1000)\n",
        "    clf.fit(X_train_fbow, y_train)\n",
        "    train_scores.append(f1_score(y_train, clf.predict(X_train_fbow), average=\"macro\"))\n",
        "    valid_scores.append(f1_score(y_valid, clf.predict(X_valid_fbow), average=\"macro\"))\n",
        "plt.plot(Cs, train_scores, marker=\"o\", label=\"Train F1\")\n",
        "plt.plot(Cs, valid_scores, marker=\"o\", label=\"Valid F1\")\n",
        "plt.xscale(\"log\")\n",
        "plt.xlabel(\"C (Log Scale)\")\n",
        "plt.ylabel(\"F1-score\")\n",
        "plt.title(\"Logistic Regression - Effect of C (fbow)\")\n",
        "plt.legend()\n",
        "plt.show()"
      ]
    },
    {
      "cell_type": "markdown",
      "metadata": {
        "id": "W98JV3B9LoPR"
      },
      "source": [
        "Logistic Regression with best C :\n",
        "* Retrain model on Train + Valid\n",
        "* Evaluate on test set\n",
        "\n"
      ]
    },
    {
      "cell_type": "code",
      "execution_count": null,
      "metadata": {
        "colab": {
          "base_uri": "https://localhost:8080/"
        },
        "id": "fNhDPMHELSui",
        "outputId": "864cd076-229a-4040-dd1a-d16f67305c6f"
      },
      "outputs": [
        {
          "name": "stdout",
          "output_type": "stream",
          "text": [
            "Final Test F1 with best C = 0.3393571751392533\n"
          ]
        }
      ],
      "source": [
        "best_C = 1\n",
        "X_combined = np.vstack([X_train_fbow, X_valid_fbow])\n",
        "y_combined = np.hstack([y_train, y_valid])\n",
        "final_model = LogisticRegression(C=best_C, max_iter=1000)\n",
        "final_model.fit(X_combined, y_combined)\n",
        "test_pred = final_model.predict(X_test_fbow)\n",
        "final_test_score = f1_score(y_test, test_pred, average=\"macro\")\n",
        "print(\"Final Test F1 with best C =\", final_test_score)\n"
      ]
    },
    {
      "cell_type": "markdown",
      "metadata": {
        "id": "29O12dTeLwEd"
      },
      "source": [
        "2. Decision Tree :\n",
        "\n",
        "   Hyperparameter → max_depth\n",
        "\n",
        "   Small depth → underfitting\n",
        "\n",
        "   Large depth → overfitting"
      ]
    },
    {
      "cell_type": "markdown",
      "metadata": {
        "id": "GzvmnrMkN3J3"
      },
      "source": [
        "Find best depth (BBOW) :"
      ]
    },
    {
      "cell_type": "code",
      "execution_count": null,
      "metadata": {
        "colab": {
          "base_uri": "https://localhost:8080/",
          "height": 472
        },
        "id": "NmogJ-pt0NGx",
        "outputId": "ed48825f-7bc1-4d5a-edf7-39d4ccb4a9cd"
      },
      "outputs": [
        {
          "data": {
            "image/png": "[encoded data removed]",
            "text/plain": [
              "<Figure size 640x480 with 1 Axes>"
            ]
          },
          "metadata": {},
          "output_type": "display_data"
        }
      ],
      "source": [
        "depths = [2, 4, 6, 8, 10]\n",
        "train_scores, valid_scores= [], []\n",
        "for d in depths:\n",
        "    clf = DecisionTreeClassifier(max_depth=d)\n",
        "    clf.fit(X_train_bbow, y_train)\n",
        "    train_scores.append(f1_score(y_train, clf.predict(X_train_bbow), average=\"macro\"))\n",
        "    valid_scores.append(f1_score(y_valid, clf.predict(X_valid_bbow), average=\"macro\"))\n",
        "plt.plot([str(d) for d in depths], train_scores, marker=\"o\", label=\"Train F1\")\n",
        "plt.plot([str(d) for d in depths], valid_scores, marker=\"o\", label=\"Valid F1\")\n",
        "plt.xlabel(\"Max Depth\")\n",
        "plt.ylabel(\"F1-score\")\n",
        "plt.title(\"Decision Tree - Effect of max_depth(bbow)\")\n",
        "plt.legend()\n",
        "plt.show()"
      ]
    },
    {
      "cell_type": "markdown",
      "metadata": {
        "id": "svgoUORVOQ4z"
      },
      "source": [
        " Decision tree with best depth :\n",
        "* Retrain model on Train + Valid\n",
        "* Evaluate on test set\n"
      ]
    },
    {
      "cell_type": "code",
      "execution_count": null,
      "metadata": {
        "colab": {
          "base_uri": "https://localhost:8080/"
        },
        "id": "5skhrdZqL1O-",
        "outputId": "276aec38-8a35-4fdd-f95c-c600095db8ce"
      },
      "outputs": [
        {
          "name": "stdout",
          "output_type": "stream",
          "text": [
            "Final Test F1 with best max_depth = 0.4969953873332244\n"
          ]
        }
      ],
      "source": [
        "best_depth = 6\n",
        "X_combined = np.vstack([X_train_bbow, X_valid_bbow])\n",
        "y_combined = np.hstack([y_train, y_valid])\n",
        "final_model = DecisionTreeClassifier(max_depth=best_depth)\n",
        "final_model.fit(X_combined, y_combined)\n",
        "test_pred = final_model.predict(X_test_bbow)\n",
        "print(\"Final Test F1 with best max_depth =\",\n",
        "      f1_score(y_test, test_pred, average=\"macro\"))"
      ]
    },
    {
      "cell_type": "markdown",
      "metadata": {
        "id": "uF8lw2LbOqG_"
      },
      "source": [
        "Find best depth (FBOW) :"
      ]
    },
    {
      "cell_type": "code",
      "execution_count": null,
      "metadata": {
        "colab": {
          "background_save": true
        },
        "id": "DJaLROxUFHlA",
        "outputId": "2ff6d391-616a-4167-9221-438bdbaecd87"
      },
      "outputs": [
        {
          "data": {
            "image/png": "[encoded data removed]",
            "text/plain": [
              "<Figure size 640x480 with 1 Axes>"
            ]
          },
          "metadata": {},
          "output_type": "display_data"
        }
      ],
      "source": [
        "depths = [2, 4, 6, 8, 10]\n",
        "train_scores, valid_scores= [], []\n",
        "for d in depths:\n",
        "    clf = DecisionTreeClassifier(max_depth=d)\n",
        "    clf.fit(X_train_fbow, y_train)\n",
        "    train_scores.append(f1_score(y_train, clf.predict(X_train_fbow), average=\"macro\"))\n",
        "    valid_scores.append(f1_score(y_valid, clf.predict(X_valid_fbow), average=\"macro\"))\n",
        "plt.plot([str(d) for d in depths], train_scores, marker=\"o\", label=\"Train F1\")\n",
        "plt.plot([str(d) for d in depths], valid_scores, marker=\"o\", label=\"Valid F1\")\n",
        "plt.xlabel(\"Max Depth\")\n",
        "plt.ylabel(\"F1-score\")\n",
        "plt.title(\"Decision Tree - Effect of max_depth(fbow)\")\n",
        "plt.legend()\n",
        "plt.show()"
      ]
    },
    {
      "cell_type": "markdown",
      "metadata": {
        "id": "cv7cyU0EO3HS"
      },
      "source": [
        " Decision tree with best depth :\n",
        "* Retrain model on Train + Valid\n",
        "* Evaluate on test set\n"
      ]
    },
    {
      "cell_type": "code",
      "execution_count": null,
      "metadata": {
        "colab": {
          "base_uri": "https://localhost:8080/"
        },
        "id": "k2o2djZEL-Gs",
        "outputId": "36d4ac63-6764-4fc7-d2f8-ce6b8b820236"
      },
      "outputs": [
        {
          "name": "stdout",
          "output_type": "stream",
          "text": [
            "Final Test F1 with best max_depth = 0.5250952130313992\n"
          ]
        }
      ],
      "source": [
        "best_depth = 6\n",
        "\n",
        "X_combined = np.vstack([X_train_fbow, X_valid_fbow])\n",
        "y_combined = np.hstack([y_train, y_valid])\n",
        "\n",
        "final_model = DecisionTreeClassifier(max_depth=best_depth)\n",
        "final_model.fit(X_combined, y_combined)\n",
        "\n",
        "test_pred = final_model.predict(X_test_fbow)\n",
        "print(\"Final Test F1 with best max_depth =\",\n",
        "      f1_score(y_test, test_pred, average=\"macro\"))\n"
      ]
    },
    {
      "cell_type": "markdown",
      "metadata": {
        "id": "nZ4ftsJ_O9th"
      },
      "source": [
        "3. Random Forest :\n",
        "\n",
        "   Hyperparameter → n_estimators\n",
        "   \n",
        "    Few trees → weak model\n",
        "\n",
        "    Many trees → better performance but higher training time"
      ]
    },
    {
      "cell_type": "markdown",
      "metadata": {
        "id": "HZkcP2bJPZZO"
      },
      "source": [
        "Find best n (BBOW):"
      ]
    },
    {
      "cell_type": "code",
      "execution_count": null,
      "metadata": {
        "colab": {
          "background_save": true
        },
        "id": "-ZtZdIZJ7hld",
        "outputId": "95c2ca11-bd0b-412f-ca98-473dbea9d264"
      },
      "outputs": [
        {
          "data": {
            "image/png": "[encoded data removed]",
            "text/plain": [
              "<Figure size 640x480 with 1 Axes>"
            ]
          },
          "metadata": {},
          "output_type": "display_data"
        }
      ],
      "source": [
        "n_estimators = [10, 50, 100, 200]\n",
        "train_scores, valid_scores = [], []\n",
        "for n in n_estimators:\n",
        "    clf = RandomForestClassifier(n_estimators=n)\n",
        "    clf.fit(X_train_bbow, y_train)\n",
        "    train_scores.append(f1_score(y_train, clf.predict(X_train_bbow), average=\"macro\"))\n",
        "    valid_scores.append(f1_score(y_valid, clf.predict(X_valid_bbow), average=\"macro\"))\n",
        "\n",
        "plt.plot(n_estimators, train_scores, marker=\"o\", label=\"Train F1\")\n",
        "plt.plot(n_estimators, valid_scores, marker=\"o\", label=\"Valid F1\")\n",
        "plt.xlabel(\"Number of Trees\")\n",
        "plt.ylabel(\"F1-score\")\n",
        "plt.title(\"Random Forest - Effect of n_estimators(bbow)\")\n",
        "plt.legend()\n",
        "plt.show()"
      ]
    },
    {
      "cell_type": "markdown",
      "metadata": {
        "id": "dlq534X_Psiv"
      },
      "source": [
        " Random Forest with best n :\n",
        "* Retrain model on Train + Valid\n",
        "* Evaluate on test set"
      ]
    },
    {
      "cell_type": "code",
      "execution_count": null,
      "metadata": {
        "colab": {
          "base_uri": "https://localhost:8080/"
        },
        "id": "gBVC3XodMG33",
        "outputId": "4f0fb6b1-8031-4188-f1b1-9f497dd137af"
      },
      "outputs": [
        {
          "name": "stdout",
          "output_type": "stream",
          "text": [
            "Final Test F1 with best n_estimators = 0.25056945672128916\n"
          ]
        }
      ],
      "source": [
        "best_n = 100\n",
        "X_combined = np.vstack([X_train_bbow, X_valid_bbow])\n",
        "y_combined = np.hstack([y_train, y_valid])\n",
        "final_model = RandomForestClassifier(n_estimators=best_n)\n",
        "final_model.fit(X_combined, y_combined)\n",
        "test_pred = final_model.predict(X_test_bbow)\n",
        "print(\"Final Test F1 with best n_estimators =\",\n",
        "      f1_score(y_test, test_pred, average=\"macro\"))"
      ]
    },
    {
      "cell_type": "markdown",
      "metadata": {
        "id": "XG0GYceGP5om"
      },
      "source": [
        "Find best n (FBOW):"
      ]
    },
    {
      "cell_type": "code",
      "execution_count": null,
      "metadata": {
        "colab": {
          "background_save": true
        },
        "id": "bQPwOBoAFUaW",
        "outputId": "4fc6ebe3-297b-40c5-9c8b-c29632405fa7"
      },
      "outputs": [
        {
          "data": {
            "image/png": "[encoded data removed]",
            "text/plain": [
              "<Figure size 640x480 with 1 Axes>"
            ]
          },
          "metadata": {},
          "output_type": "display_data"
        }
      ],
      "source": [
        "n_estimators = [10, 50, 100, 200]\n",
        "train_scores, valid_scores = [], []\n",
        "for n in n_estimators:\n",
        "    clf = RandomForestClassifier(n_estimators=n)\n",
        "    clf.fit(X_train_fbow, y_train)\n",
        "    train_scores.append(f1_score(y_train, clf.predict(X_train_fbow), average=\"macro\"))\n",
        "    valid_scores.append(f1_score(y_valid, clf.predict(X_valid_fbow), average=\"macro\"))\n",
        "\n",
        "plt.plot(n_estimators, train_scores, marker=\"o\", label=\"Train F1\")\n",
        "plt.plot(n_estimators, valid_scores, marker=\"o\", label=\"Valid F1\")\n",
        "plt.xlabel(\"Number of Trees\")\n",
        "plt.ylabel(\"F1-score\")\n",
        "plt.title(\"Random Forest - Effect of n_estimators (fbow)\")\n",
        "plt.legend()\n",
        "plt.show()"
      ]
    },
    {
      "cell_type": "markdown",
      "metadata": {
        "id": "ir-ynvTQQJio"
      },
      "source": [
        " Random Forest with best n :\n",
        "* Retrain model on Train + Valid\n",
        "* Evaluate on test set"
      ]
    },
    {
      "cell_type": "code",
      "execution_count": 49,
      "metadata": {
        "id": "37BkwvNUMRvz",
        "colab": {
          "base_uri": "https://localhost:8080/"
        },
        "outputId": "565894ae-4680-41aa-ee95-0d5db913d222"
      },
      "outputs": [
        {
          "output_type": "stream",
          "name": "stdout",
          "text": [
            "Final Test F1 with best n_estimators = 0.24462525170661442\n"
          ]
        }
      ],
      "source": [
        "best_n = 100\n",
        "X_combined = np.vstack([X_train_fbow, X_valid_fbow])\n",
        "y_combined = np.hstack([y_train, y_valid])\n",
        "final_model = RandomForestClassifier(n_estimators=best_n)\n",
        "final_model.fit(X_combined, y_combined)\n",
        "test_pred = final_model.predict(X_test_fbow)\n",
        "print(\"Final Test F1 with best n_estimators =\",\n",
        "      f1_score(y_test, test_pred, average=\"macro\"))"
      ]
    },
    {
      "cell_type": "markdown",
      "metadata": {
        "id": "Mlu-GuuqQN86"
      },
      "source": [
        "4. XGBoost:\n",
        "\n",
        "    Hyperparameter → learning_rate\n",
        "\n",
        "    Too high → unstable training\n",
        "\n",
        "    Too low → slow but stable learning"
      ]
    },
    {
      "cell_type": "markdown",
      "metadata": {
        "id": "7IgB9jw-Qila"
      },
      "source": [
        "Find best eta (BBOW) :"
      ]
    },
    {
      "cell_type": "code",
      "execution_count": null,
      "metadata": {
        "colab": {
          "background_save": true
        },
        "id": "iWUZyfIJ7rv3",
        "outputId": "60972e70-60b1-40eb-fd80-26ffc28aef47"
      },
      "outputs": [
        {
          "name": "stderr",
          "output_type": "stream",
          "text": [
            "/usr/local/lib/python3.12/dist-packages/xgboost/training.py:183: UserWarning: [20:43:53] WARNING: /workspace/src/learner.cc:738: \n",
            "Parameters: { \"use_label_encoder\" } are not used.\n",
            "\n",
            "  bst.update(dtrain, iteration=i, fobj=obj)\n",
            "/usr/local/lib/python3.12/dist-packages/xgboost/training.py:183: UserWarning: [20:44:36] WARNING: /workspace/src/learner.cc:738: \n",
            "Parameters: { \"use_label_encoder\" } are not used.\n",
            "\n",
            "  bst.update(dtrain, iteration=i, fobj=obj)\n",
            "/usr/local/lib/python3.12/dist-packages/xgboost/training.py:183: UserWarning: [20:45:14] WARNING: /workspace/src/learner.cc:738: \n",
            "Parameters: { \"use_label_encoder\" } are not used.\n",
            "\n",
            "  bst.update(dtrain, iteration=i, fobj=obj)\n",
            "/usr/local/lib/python3.12/dist-packages/xgboost/training.py:183: UserWarning: [20:45:49] WARNING: /workspace/src/learner.cc:738: \n",
            "Parameters: { \"use_label_encoder\" } are not used.\n",
            "\n",
            "  bst.update(dtrain, iteration=i, fobj=obj)\n"
          ]
        },
        {
          "data": {
            "image/png": "[encoded data removed]",
            "text/plain": [
              "<Figure size 640x480 with 1 Axes>"
            ]
          },
          "metadata": {},
          "output_type": "display_data"
        }
      ],
      "source": [
        "etas = [0.01, 0.1, 0.2, 0.3]\n",
        "train_scores, valid_scores = [], []\n",
        "for eta in etas:\n",
        "    clf = XGBClassifier(learning_rate=eta, use_label_encoder=False, eval_metric=\"mlogloss\")\n",
        "    clf.fit(X_train_bbow, y_train)\n",
        "    train_scores.append(f1_score(y_train, clf.predict(X_train_bbow), average=\"macro\"))\n",
        "    valid_scores.append(f1_score(y_valid, clf.predict(X_valid_bbow), average=\"macro\"))\n",
        "\n",
        "plt.plot(etas, train_scores, marker=\"o\", label=\"Train F1\")\n",
        "plt.plot(etas, valid_scores, marker=\"o\", label=\"Valid F1\")\n",
        "plt.xlabel(\"Learning Rate\")\n",
        "plt.ylabel(\"F1-score\")\n",
        "plt.title(\"XGBoost - Effect of learning_rate(bbow)\")\n",
        "plt.legend()\n",
        "plt.show()"
      ]
    },
    {
      "cell_type": "markdown",
      "metadata": {
        "id": "cLPMzjZLRF4D"
      },
      "source": [
        "  XGboost with best eta :\n",
        "* Retrain model on Train + Valid\n",
        "* Evaluate on test set"
      ]
    },
    {
      "cell_type": "code",
      "execution_count": null,
      "metadata": {
        "colab": {
          "base_uri": "https://localhost:8080/"
        },
        "id": "fPSwtAMAMc5-",
        "outputId": "bf9a9978-ba1e-4fe6-8cde-697159bdf7cc"
      },
      "outputs": [
        {
          "name": "stderr",
          "output_type": "stream",
          "text": [
            "/usr/local/lib/python3.12/dist-packages/xgboost/training.py:183: UserWarning: [20:48:45] WARNING: /workspace/src/learner.cc:738: \n",
            "Parameters: { \"use_label_encoder\" } are not used.\n",
            "\n",
            "  bst.update(dtrain, iteration=i, fobj=obj)\n"
          ]
        },
        {
          "name": "stdout",
          "output_type": "stream",
          "text": [
            "Final Test F1 with best learning_rate = 0.5867710596319407\n"
          ]
        }
      ],
      "source": [
        "best_eta = 0.1\n",
        "X_combined = np.vstack([X_train_bbow, X_valid_bbow])\n",
        "y_combined = np.hstack([y_train, y_valid])\n",
        "final_model = XGBClassifier(learning_rate=best_eta,\n",
        "                            use_label_encoder=False, eval_metric=\"mlogloss\")\n",
        "final_model.fit(X_combined, y_combined)\n",
        "test_pred = final_model.predict(X_test_bbow)\n",
        "print(\"Final Test F1 with best learning_rate =\",\n",
        "      f1_score(y_test, test_pred, average=\"macro\"))"
      ]
    },
    {
      "cell_type": "markdown",
      "metadata": {
        "id": "MozAbblvQ8nX"
      },
      "source": [
        "Find best eta (FBOW) :"
      ]
    },
    {
      "cell_type": "code",
      "execution_count": null,
      "metadata": {
        "colab": {
          "background_save": true,
          "base_uri": "https://localhost:8080/"
        },
        "id": "BVHsNMeiFhqQ",
        "outputId": "bfee3401-452d-49cc-acad-378069345940"
      },
      "outputs": [
        {
          "name": "stderr",
          "output_type": "stream",
          "text": [
            "/usr/local/lib/python3.12/dist-packages/xgboost/training.py:183: UserWarning: [20:49:45] WARNING: /workspace/src/learner.cc:738: \n",
            "Parameters: { \"use_label_encoder\" } are not used.\n",
            "\n",
            "  bst.update(dtrain, iteration=i, fobj=obj)\n",
            "/usr/local/lib/python3.12/dist-packages/xgboost/training.py:183: UserWarning: [20:53:50] WARNING: /workspace/src/learner.cc:738: \n",
            "Parameters: { \"use_label_encoder\" } are not used.\n",
            "\n",
            "  bst.update(dtrain, iteration=i, fobj=obj)\n",
            "/usr/local/lib/python3.12/dist-packages/xgboost/training.py:183: UserWarning: [20:57:12] WARNING: /workspace/src/learner.cc:738: \n",
            "Parameters: { \"use_label_encoder\" } are not used.\n",
            "\n",
            "  bst.update(dtrain, iteration=i, fobj=obj)\n",
            "/usr/local/lib/python3.12/dist-packages/xgboost/training.py:183: UserWarning: [21:00:13] WARNING: /workspace/src/learner.cc:738: \n",
            "Parameters: { \"use_label_encoder\" } are not used.\n",
            "\n",
            "  bst.update(dtrain, iteration=i, fobj=obj)\n"
          ]
        },
        {
          "data": {
            "image/png": "[encoded data removed]",
            "text/plain": [
              "<Figure size 640x480 with 1 Axes>"
            ]
          },
          "metadata": {},
          "output_type": "display_data"
        }
      ],
      "source": [
        "etas = [0.01, 0.1, 0.2, 0.3]\n",
        "train_scores, valid_scores = [], []\n",
        "for eta in etas:\n",
        "    clf = XGBClassifier(learning_rate=eta, use_label_encoder=False, eval_metric=\"mlogloss\")\n",
        "    clf.fit(X_train_fbow, y_train)\n",
        "    train_scores.append(f1_score(y_train, clf.predict(X_train_fbow), average=\"macro\"))\n",
        "    valid_scores.append(f1_score(y_valid, clf.predict(X_valid_fbow), average=\"macro\"))\n",
        "\n",
        "plt.plot(etas, train_scores, marker=\"o\", label=\"Train F1\")\n",
        "plt.plot(etas, valid_scores, marker=\"o\", label=\"Valid F1\")\n",
        "plt.xlabel(\"Learning Rate\")\n",
        "plt.ylabel(\"F1-score\")\n",
        "plt.title(\"XGBoost - Effect of learning_rate(fbow)\")\n",
        "plt.legend()\n",
        "plt.show()"
      ]
    },
    {
      "cell_type": "markdown",
      "metadata": {
        "id": "ia7_OmtgRVNF"
      },
      "source": [
        "  XGboost with best eta :\n",
        "* Retrain model on Train + Valid\n",
        "* Evaluate on test set"
      ]
    },
    {
      "cell_type": "code",
      "execution_count": 48,
      "metadata": {
        "id": "3f9JCQ8SMm7G",
        "colab": {
          "base_uri": "https://localhost:8080/"
        },
        "outputId": "239bc53f-2fea-419c-a561-b1848245d1f1"
      },
      "outputs": [
        {
          "metadata": {
            "tags": null
          },
          "name": "stderr",
          "output_type": "stream",
          "text": [
            "/usr/local/lib/python3.12/dist-packages/xgboost/training.py:183: UserWarning: [21:03:51] WARNING: /workspace/src/learner.cc:738: \n",
            "Parameters: { \"use_label_encoder\" } are not used.\n",
            "\n",
            "  bst.update(dtrain, iteration=i, fobj=obj)\n"
          ]
        },
        {
          "output_type": "stream",
          "name": "stdout",
          "text": [
            "Final Test F1 with best learning_rate = 0.6078407069583086\n"
          ]
        }
      ],
      "source": [
        "best_eta = 0.1\n",
        "X_combined = np.vstack([X_train_fbow, X_valid_fbow])\n",
        "y_combined = np.hstack([y_train, y_valid])\n",
        "final_model = XGBClassifier(learning_rate=best_eta,\n",
        "                            use_label_encoder=False, eval_metric=\"mlogloss\")\n",
        "final_model.fit(X_combined, y_combined)\n",
        "test_pred = final_model.predict(X_test_fbow)\n",
        "print(\"Final Test F1 with best learning_rate =\",\n",
        "      f1_score(y_test, test_pred, average=\"macro\"))"
      ]
    },
    {
      "cell_type": "markdown",
      "source": [
        "📌 Final conclusion:\n",
        "\n",
        " The optimal configuration for this Project is XGBoost with the specified hyperparameter (eta=0.1) using FBOW, providing a balanced trade-off between learning from training data and generalizing to unseen data."
      ],
      "metadata": {
        "id": "hfNXQrDOc2ts"
      }
    }
  ],
  "metadata": {
    "colab": {
      "provenance": []
    },
    "kernelspec": {
      "display_name": "Python 3",
      "name": "python3"
    },
    "language_info": {
      "name": "python"
    }
  },
  "nbformat": 4,
  "nbformat_minor": 0
}