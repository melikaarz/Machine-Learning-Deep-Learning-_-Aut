{
  "nbformat": 4,
  "nbformat_minor": 0,
  "metadata": {
    "colab": {
      "provenance": []
    },
    "kernelspec": {
      "name": "python3",
      "display_name": "Python 3"
    },
    "language_info": {
      "name": "python"
    }
  },
  "cells": [
    {
      "cell_type": "markdown",
      "source": [
        "PROJECT 4 : Handwritten Character Recognition on EMNIST with CNN  \n",
        "\n",
        "The goal of this project is to build, train, and improve a Convolutional Neural Network (CNN)\n",
        "for handwritten character recognition using the EMNIST dataset. You will also use Weights &\n",
        "Biases (wandb) to log experiments and perform hyperparameter tuning in order to optimize your\n",
        "model’s performance."
      ],
      "metadata": {
        "id": "qquh-JS68r7U"
      }
    },
    {
      "cell_type": "markdown",
      "source": [
        "STEP 1 : Data Preparation :\n"
      ],
      "metadata": {
        "id": "-mdSBaD_9DvH"
      }
    },
    {
      "cell_type": "markdown",
      "source": [
        "Download and load and normalize the EMNIST dataset :"
      ],
      "metadata": {
        "id": "Rzj5WnsZ9e0z"
      }
    },
    {
      "cell_type": "code",
      "execution_count": 9,
      "metadata": {
        "id": "NRx0_PV88nYK"
      },
      "outputs": [],
      "source": [
        "import torch\n",
        "import torchvision\n",
        "from torchvision import datasets, transforms\n",
        "from torch.utils.data import DataLoader\n",
        "transform = transforms.Compose([\n",
        "    transforms.ToTensor(),\n",
        "    transforms.Normalize((0.5,), (0.5,))\n",
        "])\n",
        "train_data = datasets.EMNIST(root=\"./data\", split=\"balanced\", train=True, download=True, transform=transform)\n",
        "test_data  = datasets.EMNIST(root=\"./data\", split=\"balanced\", train=False, download=True, transform=transform)"
      ]
    },
    {
      "cell_type": "markdown",
      "source": [
        "create train/validation/test splits :"
      ],
      "metadata": {
        "id": "kzyJ5U8v_IFb"
      }
    },
    {
      "cell_type": "code",
      "source": [
        "train_size = int(0.8 * len(train_data))\n",
        "val_size   = len(train_data) - train_size\n",
        "train_dataset, val_dataset = torch.utils.data.random_split(train_data, [train_size, val_size])\n",
        "train_loader = DataLoader(train_dataset, batch_size=64, shuffle=True)\n",
        "val_loader   = DataLoader(val_dataset, batch_size=64, shuffle=False)\n",
        "test_loader  = DataLoader(test_data, batch_size=64, shuffle=False)"
      ],
      "metadata": {
        "id": "XewAPApv-z8X"
      },
      "execution_count": 10,
      "outputs": []
    },
    {
      "cell_type": "markdown",
      "source": [
        "Visualize some sample images to understand the dataset :"
      ],
      "metadata": {
        "id": "4zvEvWbO_U0V"
      }
    },
    {
      "cell_type": "code",
      "source": [
        "import matplotlib.pyplot as plt\n",
        "examples = enumerate(train_loader)\n",
        "batch_idx, (example_data, example_targets) = next(examples)\n",
        "\n",
        "fig = plt.figure(figsize=(10, 7))\n",
        "for i in range(6):\n",
        "    plt.subplot(2,3,i+1)\n",
        "    plt.imshow(example_data[i][0], cmap=\"gray\")\n",
        "    plt.title(f\"Label: {example_targets[i].item()}\")\n",
        "plt.show()"
      ],
      "metadata": {
        "colab": {
          "base_uri": "https://localhost:8080/",
          "height": 604
        },
        "id": "lQ9jx77S_VEx",
        "outputId": "1b968c90-373b-4674-a3d8-718591a8384a"
      },
      "execution_count": 11,
      "outputs": [
        {
          "output_type": "display_data",
          "data": {
            "text/plain": [
              "<Figure size 1000x700 with 6 Axes>"
            ],
            "image/png": "[encoded data removed]"
          },
          "metadata": {}
        }
      ]
    },
    {
      "cell_type": "markdown",
      "source": [
        "STEP 2 : Baseline CNN Model :"
      ],
      "metadata": {
        "id": "56R2pPXV__QJ"
      }
    },
    {
      "cell_type": "markdown",
      "source": [
        " * Build a simple CNN architecture (a few convolution + pooling layers, followed by fully\n",
        "connected layers).\n",
        "*  Train the model with default hyperparameters.\n",
        "*  Evaluate the baseline accuracy on the test set."
      ],
      "metadata": {
        "id": "nOH9n6bNALor"
      }
    },
    {
      "cell_type": "code",
      "source": [
        "import torch.nn as nn\n",
        "import torch.nn.functional as F\n",
        "class SimpleCNN(nn.Module):\n",
        "    def __init__(self, conv_filters=32, dropout_rate=0.3):\n",
        "        super(SimpleCNN, self).__init__()\n",
        "        self.conv1 = nn.Conv2d(1, conv_filters, kernel_size=3, padding=1)\n",
        "        self.pool = nn.MaxPool2d(2, 2)\n",
        "        self.conv2 = nn.Conv2d(conv_filters, conv_filters*2, kernel_size=3, padding=1)\n",
        "        self.fc1 = nn.Linear((conv_filters*2) * 7 * 7, 128)\n",
        "        self.dropout = nn.Dropout(dropout_rate)\n",
        "        self.fc2 = nn.Linear(128, 47)\n",
        "    def forward(self, x):\n",
        "        x = self.pool(F.relu(self.conv1(x)))\n",
        "        x = self.pool(F.relu(self.conv2(x)))\n",
        "        x = x.view(x.size(0), -1)\n",
        "        x = F.relu(self.fc1(x))\n",
        "        x = self.dropout(x)\n",
        "        x = self.fc2(x)\n",
        "        return x"
      ],
      "metadata": {
        "id": "cvVP9LMC_-GN"
      },
      "execution_count": 12,
      "outputs": []
    },
    {
      "cell_type": "markdown",
      "source": [
        "STEP 3 : Integrating wandb :"
      ],
      "metadata": {
        "id": "2T5mxM01BoFc"
      }
    },
    {
      "cell_type": "markdown",
      "source": [
        "Load wandb :"
      ],
      "metadata": {
        "id": "2bnAacJLCtz-"
      }
    },
    {
      "cell_type": "code",
      "source": [
        "import wandb\n",
        "wandb.login()"
      ],
      "metadata": {
        "colab": {
          "base_uri": "https://localhost:8080/"
        },
        "id": "f2w--v5JCbvZ",
        "outputId": "27ce6416-5430-4fdb-b939-6e17347ee4fb"
      },
      "execution_count": 13,
      "outputs": [
        {
          "output_type": "execute_result",
          "data": {
            "text/plain": [
              "True"
            ]
          },
          "metadata": {},
          "execution_count": 13
        }
      ]
    },
    {
      "cell_type": "markdown",
      "source": [
        "Set up wandb to log metrics such as training/validation loss and accuracy :"
      ],
      "metadata": {
        "id": "kDKcCa2_EN0f"
      }
    },
    {
      "cell_type": "code",
      "source": [
        "def train_model(config=None):\n",
        "    with wandb.init(config=config):\n",
        "        config = wandb.config\n",
        "        device = torch.device(\"cuda\" if torch.cuda.is_available() else \"cpu\")\n",
        "        model = SimpleCNN(conv_filters=config.conv_filters, dropout_rate=config.dropout).to(device)\n",
        "        criterion = nn.CrossEntropyLoss()\n",
        "        if config.optimizer == \"adam\":\n",
        "            optimizer = torch.optim.Adam(model.parameters(), lr=config.lr)\n",
        "        else:\n",
        "            optimizer = torch.optim.SGD(model.parameters(), lr=config.lr, momentum=0.9)\n",
        "        for epoch in range(config.epochs):\n",
        "            model.train()\n",
        "            train_loss, train_correct = 0, 0\n",
        "            for data, target in train_loader:\n",
        "                data, target = data.to(device), target.to(device)\n",
        "                optimizer.zero_grad()\n",
        "                output = model(data)\n",
        "                loss = criterion(output, target)\n",
        "                loss.backward()\n",
        "                optimizer.step()\n",
        "                train_loss += loss.item()\n",
        "                train_correct += (output.argmax(1) == target).sum().item()\n",
        "            model.eval()\n",
        "            val_loss, val_correct = 0, 0\n",
        "            with torch.no_grad():\n",
        "                for data, target in val_loader:\n",
        "                    data, target = data.to(device), target.to(device)\n",
        "                    output = model(data)\n",
        "                    loss = criterion(output, target)\n",
        "                    val_loss += loss.item()\n",
        "                    val_correct += (output.argmax(1) == target).sum().item()\n",
        "            wandb.log({\n",
        "                \"epoch\": epoch,\n",
        "                \"train_loss\": train_loss/len(train_loader),\n",
        "                \"train_acc\": train_correct/len(train_dataset),\n",
        "                \"val_loss\": val_loss/len(val_loader),\n",
        "                \"val_acc\": val_correct/len(val_dataset)\n",
        "            })"
      ],
      "metadata": {
        "id": "SJpXGuiFDkCy"
      },
      "execution_count": 14,
      "outputs": []
    },
    {
      "cell_type": "markdown",
      "source": [
        "STEP 4 : Hyperparameter Tuning :\n"
      ],
      "metadata": {
        "id": "LtGKR7boEVyw"
      }
    },
    {
      "cell_type": "code",
      "source": [
        "sweep_config = {\n",
        "    \"method\": \"random\",\n",
        "    \"metric\": {\"name\": \"val_acc\", \"goal\": \"maximize\"},\n",
        "    \"parameters\": {\n",
        "        \"lr\": {\"values\": [0.001, 0.0005, 0.01]},\n",
        "        \"optimizer\": {\"values\": [\"adam\", \"sgd\"]},\n",
        "        \"conv_filters\": {\"values\": [16, 32, 64]},\n",
        "        \"dropout\": {\"values\": [0.3, 0.5]},\n",
        "        \"epochs\": {\"value\": 5}\n",
        "    }\n",
        "}\n",
        "sweep_id = wandb.sweep(sweep_config, project=\"emnist-cnn\")\n",
        "wandb.agent(sweep_id, train_model, count=5)"
      ],
      "metadata": {
        "colab": {
          "base_uri": "https://localhost:8080/",
          "height": 1000
        },
        "id": "TTOriz8TEWGj",
        "outputId": "9608bf28-453b-4ba1-fee5-7e8b5717ae7a"
      },
      "execution_count": 15,
      "outputs": [
        {
          "metadata": {
            "tags": null
          },
          "name": "stdout",
          "output_type": "stream",
          "text": [
            "Create sweep with ID: t79gdyuo\n",
            "Sweep URL: https://wandb.ai/rmelika-rz-2004-khajeh-nasir/emnist-cnn/sweeps/t79gdyuo\n"
          ]
        },
        {
          "metadata": {
            "tags": null
          },
          "name": "stderr",
          "output_type": "stream",
          "text": [
            "\u001b[34m\u001b[1mwandb\u001b[0m: Agent Starting Run: g708z4b4 with config:\n",
            "\u001b[34m\u001b[1mwandb\u001b[0m: \tconv_filters: 16\n",
            "\u001b[34m\u001b[1mwandb\u001b[0m: \tdropout: 0.5\n",
            "\u001b[34m\u001b[1mwandb\u001b[0m: \tepochs: 5\n",
            "\u001b[34m\u001b[1mwandb\u001b[0m: \tlr: 0.0005\n",
            "\u001b[34m\u001b[1mwandb\u001b[0m: \toptimizer: sgd\n"
          ]
        },
        {
          "data": {
            "text/html": [
              "creating run (0.0s)"
            ],
            "text/plain": [
              "<IPython.core.display.HTML object>"
            ]
          },
          "metadata": {},
          "output_type": "display_data"
        },
        {
          "data": {
            "text/html": [
              "Tracking run with wandb version 0.21.3"
            ],
            "text/plain": [
              "<IPython.core.display.HTML object>"
            ]
          },
          "metadata": {},
          "output_type": "display_data"
        },
        {
          "data": {
            "text/html": [
              "Run data is saved locally in <code>/content/wandb/run-20250911_101240-g708z4b4</code>"
            ],
            "text/plain": [
              "<IPython.core.display.HTML object>"
            ]
          },
          "metadata": {},
          "output_type": "display_data"
        },
        {
          "data": {
            "text/html": [
              "Syncing run <strong><a href='https://wandb.ai/rmelika-rz-2004-khajeh-nasir/emnist-cnn/runs/g708z4b4' target=\"_blank\">comic-sweep-1</a></strong> to <a href='https://wandb.ai/rmelika-rz-2004-khajeh-nasir/emnist-cnn' target=\"_blank\">Weights & Biases</a> (<a href='https://wandb.me/developer-guide' target=\"_blank\">docs</a>)<br>Sweep page: <a href='https://wandb.ai/rmelika-rz-2004-khajeh-nasir/emnist-cnn/sweeps/t79gdyuo' target=\"_blank\">https://wandb.ai/rmelika-rz-2004-khajeh-nasir/emnist-cnn/sweeps/t79gdyuo</a>"
            ],
            "text/plain": [
              "<IPython.core.display.HTML object>"
            ]
          },
          "metadata": {},
          "output_type": "display_data"
        },
        {
          "data": {
            "text/html": [
              " View project at <a href='https://wandb.ai/rmelika-rz-2004-khajeh-nasir/emnist-cnn' target=\"_blank\">https://wandb.ai/rmelika-rz-2004-khajeh-nasir/emnist-cnn</a>"
            ],
            "text/plain": [
              "<IPython.core.display.HTML object>"
            ]
          },
          "metadata": {},
          "output_type": "display_data"
        },
        {
          "data": {
            "text/html": [
              " View sweep at <a href='https://wandb.ai/rmelika-rz-2004-khajeh-nasir/emnist-cnn/sweeps/t79gdyuo' target=\"_blank\">https://wandb.ai/rmelika-rz-2004-khajeh-nasir/emnist-cnn/sweeps/t79gdyuo</a>"
            ],
            "text/plain": [
              "<IPython.core.display.HTML object>"
            ]
          },
          "metadata": {},
          "output_type": "display_data"
        },
        {
          "data": {
            "text/html": [
              " View run at <a href='https://wandb.ai/rmelika-rz-2004-khajeh-nasir/emnist-cnn/runs/g708z4b4' target=\"_blank\">https://wandb.ai/rmelika-rz-2004-khajeh-nasir/emnist-cnn/runs/g708z4b4</a>"
            ],
            "text/plain": [
              "<IPython.core.display.HTML object>"
            ]
          },
          "metadata": {},
          "output_type": "display_data"
        },
        {
          "data": {
            "text/html": [],
            "text/plain": [
              "<IPython.core.display.HTML object>"
            ]
          },
          "metadata": {},
          "output_type": "display_data"
        },
        {
          "data": {
            "text/html": [
              "<br>    <style><br>        .wandb-row {<br>            display: flex;<br>            flex-direction: row;<br>            flex-wrap: wrap;<br>            justify-content: flex-start;<br>            width: 100%;<br>        }<br>        .wandb-col {<br>            display: flex;<br>            flex-direction: column;<br>            flex-basis: 100%;<br>            flex: 1;<br>            padding: 10px;<br>        }<br>    </style><br><div class=\"wandb-row\"><div class=\"wandb-col\"><h3>Run history:</h3><br/><table class=\"wandb\"><tr><td>epoch</td><td>▁▃▅▆█</td></tr><tr><td>train_acc</td><td>▁▅▇▇█</td></tr><tr><td>train_loss</td><td>█▄▂▁▁</td></tr><tr><td>val_acc</td><td>▁▅▇▇█</td></tr><tr><td>val_loss</td><td>█▃▂▁▁</td></tr></table><br/></div><div class=\"wandb-col\"><h3>Run summary:</h3><br/><table class=\"wandb\"><tr><td>epoch</td><td>4</td></tr><tr><td>train_acc</td><td>0.66934</td></tr><tr><td>train_loss</td><td>1.08448</td></tr><tr><td>val_acc</td><td>0.76547</td></tr><tr><td>val_loss</td><td>0.75102</td></tr></table><br/></div></div>"
            ],
            "text/plain": [
              "<IPython.core.display.HTML object>"
            ]
          },
          "metadata": {},
          "output_type": "display_data"
        },
        {
          "data": {
            "text/html": [
              " View run <strong style=\"color:#cdcd00\">comic-sweep-1</strong> at: <a href='https://wandb.ai/rmelika-rz-2004-khajeh-nasir/emnist-cnn/runs/g708z4b4' target=\"_blank\">https://wandb.ai/rmelika-rz-2004-khajeh-nasir/emnist-cnn/runs/g708z4b4</a><br> View project at: <a href='https://wandb.ai/rmelika-rz-2004-khajeh-nasir/emnist-cnn' target=\"_blank\">https://wandb.ai/rmelika-rz-2004-khajeh-nasir/emnist-cnn</a><br>Synced 5 W&B file(s), 0 media file(s), 0 artifact file(s) and 0 other file(s)"
            ],
            "text/plain": [
              "<IPython.core.display.HTML object>"
            ]
          },
          "metadata": {},
          "output_type": "display_data"
        },
        {
          "data": {
            "text/html": [
              "Find logs at: <code>./wandb/run-20250911_101240-g708z4b4/logs</code>"
            ],
            "text/plain": [
              "<IPython.core.display.HTML object>"
            ]
          },
          "metadata": {},
          "output_type": "display_data"
        },
        {
          "metadata": {
            "tags": null
          },
          "name": "stderr",
          "output_type": "stream",
          "text": [
            "\u001b[34m\u001b[1mwandb\u001b[0m: Sweep Agent: Waiting for job.\n",
            "\u001b[34m\u001b[1mwandb\u001b[0m: Job received.\n",
            "\u001b[34m\u001b[1mwandb\u001b[0m: Agent Starting Run: nsh0s4qk with config:\n",
            "\u001b[34m\u001b[1mwandb\u001b[0m: \tconv_filters: 16\n",
            "\u001b[34m\u001b[1mwandb\u001b[0m: \tdropout: 0.3\n",
            "\u001b[34m\u001b[1mwandb\u001b[0m: \tepochs: 5\n",
            "\u001b[34m\u001b[1mwandb\u001b[0m: \tlr: 0.001\n",
            "\u001b[34m\u001b[1mwandb\u001b[0m: \toptimizer: adam\n"
          ]
        },
        {
          "data": {
            "text/html": [
              "creating run (0.0s)"
            ],
            "text/plain": [
              "<IPython.core.display.HTML object>"
            ]
          },
          "metadata": {},
          "output_type": "display_data"
        },
        {
          "data": {
            "text/html": [
              "Tracking run with wandb version 0.21.3"
            ],
            "text/plain": [
              "<IPython.core.display.HTML object>"
            ]
          },
          "metadata": {},
          "output_type": "display_data"
        },
        {
          "data": {
            "text/html": [
              "Run data is saved locally in <code>/content/wandb/run-20250911_101945-nsh0s4qk</code>"
            ],
            "text/plain": [
              "<IPython.core.display.HTML object>"
            ]
          },
          "metadata": {},
          "output_type": "display_data"
        },
        {
          "data": {
            "text/html": [
              "Syncing run <strong><a href='https://wandb.ai/rmelika-rz-2004-khajeh-nasir/emnist-cnn/runs/nsh0s4qk' target=\"_blank\">lyric-sweep-2</a></strong> to <a href='https://wandb.ai/rmelika-rz-2004-khajeh-nasir/emnist-cnn' target=\"_blank\">Weights & Biases</a> (<a href='https://wandb.me/developer-guide' target=\"_blank\">docs</a>)<br>Sweep page: <a href='https://wandb.ai/rmelika-rz-2004-khajeh-nasir/emnist-cnn/sweeps/t79gdyuo' target=\"_blank\">https://wandb.ai/rmelika-rz-2004-khajeh-nasir/emnist-cnn/sweeps/t79gdyuo</a>"
            ],
            "text/plain": [
              "<IPython.core.display.HTML object>"
            ]
          },
          "metadata": {},
          "output_type": "display_data"
        },
        {
          "data": {
            "text/html": [
              " View project at <a href='https://wandb.ai/rmelika-rz-2004-khajeh-nasir/emnist-cnn' target=\"_blank\">https://wandb.ai/rmelika-rz-2004-khajeh-nasir/emnist-cnn</a>"
            ],
            "text/plain": [
              "<IPython.core.display.HTML object>"
            ]
          },
          "metadata": {},
          "output_type": "display_data"
        },
        {
          "data": {
            "text/html": [
              " View sweep at <a href='https://wandb.ai/rmelika-rz-2004-khajeh-nasir/emnist-cnn/sweeps/t79gdyuo' target=\"_blank\">https://wandb.ai/rmelika-rz-2004-khajeh-nasir/emnist-cnn/sweeps/t79gdyuo</a>"
            ],
            "text/plain": [
              "<IPython.core.display.HTML object>"
            ]
          },
          "metadata": {},
          "output_type": "display_data"
        },
        {
          "data": {
            "text/html": [
              " View run at <a href='https://wandb.ai/rmelika-rz-2004-khajeh-nasir/emnist-cnn/runs/nsh0s4qk' target=\"_blank\">https://wandb.ai/rmelika-rz-2004-khajeh-nasir/emnist-cnn/runs/nsh0s4qk</a>"
            ],
            "text/plain": [
              "<IPython.core.display.HTML object>"
            ]
          },
          "metadata": {},
          "output_type": "display_data"
        },
        {
          "data": {
            "text/html": [],
            "text/plain": [
              "<IPython.core.display.HTML object>"
            ]
          },
          "metadata": {},
          "output_type": "display_data"
        },
        {
          "data": {
            "text/html": [
              "<br>    <style><br>        .wandb-row {<br>            display: flex;<br>            flex-direction: row;<br>            flex-wrap: wrap;<br>            justify-content: flex-start;<br>            width: 100%;<br>        }<br>        .wandb-col {<br>            display: flex;<br>            flex-direction: column;<br>            flex-basis: 100%;<br>            flex: 1;<br>            padding: 10px;<br>        }<br>    </style><br><div class=\"wandb-row\"><div class=\"wandb-col\"><h3>Run history:</h3><br/><table class=\"wandb\"><tr><td>epoch</td><td>▁▃▅▆█</td></tr><tr><td>train_acc</td><td>▁▆▇██</td></tr><tr><td>train_loss</td><td>█▃▂▁▁</td></tr><tr><td>val_acc</td><td>▁▄▅▇█</td></tr><tr><td>val_loss</td><td>█▅▃▂▁</td></tr></table><br/></div><div class=\"wandb-col\"><h3>Run summary:</h3><br/><table class=\"wandb\"><tr><td>epoch</td><td>4</td></tr><tr><td>train_acc</td><td>0.83747</td></tr><tr><td>train_loss</td><td>0.47349</td></tr><tr><td>val_acc</td><td>0.86494</td></tr><tr><td>val_loss</td><td>0.38847</td></tr></table><br/></div></div>"
            ],
            "text/plain": [
              "<IPython.core.display.HTML object>"
            ]
          },
          "metadata": {},
          "output_type": "display_data"
        },
        {
          "data": {
            "text/html": [
              " View run <strong style=\"color:#cdcd00\">lyric-sweep-2</strong> at: <a href='https://wandb.ai/rmelika-rz-2004-khajeh-nasir/emnist-cnn/runs/nsh0s4qk' target=\"_blank\">https://wandb.ai/rmelika-rz-2004-khajeh-nasir/emnist-cnn/runs/nsh0s4qk</a><br> View project at: <a href='https://wandb.ai/rmelika-rz-2004-khajeh-nasir/emnist-cnn' target=\"_blank\">https://wandb.ai/rmelika-rz-2004-khajeh-nasir/emnist-cnn</a><br>Synced 5 W&B file(s), 0 media file(s), 0 artifact file(s) and 0 other file(s)"
            ],
            "text/plain": [
              "<IPython.core.display.HTML object>"
            ]
          },
          "metadata": {},
          "output_type": "display_data"
        },
        {
          "data": {
            "text/html": [
              "Find logs at: <code>./wandb/run-20250911_101945-nsh0s4qk/logs</code>"
            ],
            "text/plain": [
              "<IPython.core.display.HTML object>"
            ]
          },
          "metadata": {},
          "output_type": "display_data"
        },
        {
          "metadata": {
            "tags": null
          },
          "name": "stderr",
          "output_type": "stream",
          "text": [
            "\u001b[34m\u001b[1mwandb\u001b[0m: Agent Starting Run: b7o88lt3 with config:\n",
            "\u001b[34m\u001b[1mwandb\u001b[0m: \tconv_filters: 16\n",
            "\u001b[34m\u001b[1mwandb\u001b[0m: \tdropout: 0.3\n",
            "\u001b[34m\u001b[1mwandb\u001b[0m: \tepochs: 5\n",
            "\u001b[34m\u001b[1mwandb\u001b[0m: \tlr: 0.01\n",
            "\u001b[34m\u001b[1mwandb\u001b[0m: \toptimizer: adam\n"
          ]
        },
        {
          "data": {
            "text/html": [
              "creating run (0.0s)"
            ],
            "text/plain": [
              "<IPython.core.display.HTML object>"
            ]
          },
          "metadata": {},
          "output_type": "display_data"
        },
        {
          "data": {
            "text/html": [
              "Tracking run with wandb version 0.21.3"
            ],
            "text/plain": [
              "<IPython.core.display.HTML object>"
            ]
          },
          "metadata": {},
          "output_type": "display_data"
        },
        {
          "data": {
            "text/html": [
              "Run data is saved locally in <code>/content/wandb/run-20250911_102709-b7o88lt3</code>"
            ],
            "text/plain": [
              "<IPython.core.display.HTML object>"
            ]
          },
          "metadata": {},
          "output_type": "display_data"
        },
        {
          "data": {
            "text/html": [
              "Syncing run <strong><a href='https://wandb.ai/rmelika-rz-2004-khajeh-nasir/emnist-cnn/runs/b7o88lt3' target=\"_blank\">fallen-sweep-3</a></strong> to <a href='https://wandb.ai/rmelika-rz-2004-khajeh-nasir/emnist-cnn' target=\"_blank\">Weights & Biases</a> (<a href='https://wandb.me/developer-guide' target=\"_blank\">docs</a>)<br>Sweep page: <a href='https://wandb.ai/rmelika-rz-2004-khajeh-nasir/emnist-cnn/sweeps/t79gdyuo' target=\"_blank\">https://wandb.ai/rmelika-rz-2004-khajeh-nasir/emnist-cnn/sweeps/t79gdyuo</a>"
            ],
            "text/plain": [
              "<IPython.core.display.HTML object>"
            ]
          },
          "metadata": {},
          "output_type": "display_data"
        },
        {
          "data": {
            "text/html": [
              " View project at <a href='https://wandb.ai/rmelika-rz-2004-khajeh-nasir/emnist-cnn' target=\"_blank\">https://wandb.ai/rmelika-rz-2004-khajeh-nasir/emnist-cnn</a>"
            ],
            "text/plain": [
              "<IPython.core.display.HTML object>"
            ]
          },
          "metadata": {},
          "output_type": "display_data"
        },
        {
          "data": {
            "text/html": [
              " View sweep at <a href='https://wandb.ai/rmelika-rz-2004-khajeh-nasir/emnist-cnn/sweeps/t79gdyuo' target=\"_blank\">https://wandb.ai/rmelika-rz-2004-khajeh-nasir/emnist-cnn/sweeps/t79gdyuo</a>"
            ],
            "text/plain": [
              "<IPython.core.display.HTML object>"
            ]
          },
          "metadata": {},
          "output_type": "display_data"
        },
        {
          "data": {
            "text/html": [
              " View run at <a href='https://wandb.ai/rmelika-rz-2004-khajeh-nasir/emnist-cnn/runs/b7o88lt3' target=\"_blank\">https://wandb.ai/rmelika-rz-2004-khajeh-nasir/emnist-cnn/runs/b7o88lt3</a>"
            ],
            "text/plain": [
              "<IPython.core.display.HTML object>"
            ]
          },
          "metadata": {},
          "output_type": "display_data"
        },
        {
          "output_type": "stream",
          "name": "stderr",
          "text": [
            "\u001b[34m\u001b[1mwandb\u001b[0m: Ctrl + C detected. Stopping sweep.\n"
          ]
        }
      ]
    },
    {
      "cell_type": "markdown",
      "source": [
        " STEP 5 : Reporting Results :"
      ],
      "metadata": {
        "id": "Ht_WX4oRHnSw"
      }
    },
    {
      "cell_type": "markdown",
      "source": [
        "Retrieve the Best Sweep Run :"
      ],
      "metadata": {
        "id": "j6KG0r2SRatt"
      }
    },
    {
      "cell_type": "code",
      "source": [
        "api = wandb.Api()\n",
        "sweep = api.sweep(\"rmelika-rz-2004-khajeh-nasir/emnist-cnn/5twmwepx\")\n",
        "# Find the best run by validation accuracy\n",
        "best_run = max(sweep.runs, key=lambda run: run.summary.get(\"val_acc\", 0))\n",
        "print(f\"Best Validation Accuracy: {best_run.summary['val_acc']}\")\n",
        "print(f\"Hyperparameters: {best_run.config}\")"
      ],
      "metadata": {
        "colab": {
          "base_uri": "https://localhost:8080/"
        },
        "id": "LR1vWvnjN1Wb",
        "outputId": "315ca569-538a-42b5-aeb3-42a56cdbf257"
      },
      "execution_count": 5,
      "outputs": [
        {
          "output_type": "stream",
          "name": "stdout",
          "text": [
            "Best Validation Accuracy: 0.8671099290780142\n",
            "Hyperparameters: {'lr': 0.001, 'epochs': 5, 'dropout': 0.5, 'optimizer': 'adam', 'conv_filters': 16}\n"
          ]
        }
      ]
    },
    {
      "cell_type": "markdown",
      "source": [
        "Plot Accuracy and Loss Curves :"
      ],
      "metadata": {
        "id": "d9WQlh3_RqNm"
      }
    },
    {
      "cell_type": "code",
      "source": [
        "train_acc = best_run.history(keys=[\"train_acc\"])[\"train_acc\"]\n",
        "val_acc = best_run.history(keys=[\"val_acc\"])[\"val_acc\"]\n",
        "train_loss = best_run.history(keys=[\"train_loss\"])[\"train_loss\"]\n",
        "val_loss = best_run.history(keys=[\"val_loss\"])[\"val_loss\"]\n",
        "epochs = range(1, len(train_acc) + 1)"
      ],
      "metadata": {
        "id": "Aa37T79UP6S7"
      },
      "execution_count": 6,
      "outputs": []
    },
    {
      "cell_type": "code",
      "source": [
        "plt.figure(figsize=(12, 5))\n",
        "plt.subplot(1, 2, 1)\n",
        "plt.plot(epochs, train_acc, label='Train Accuracy')\n",
        "plt.plot(epochs, val_acc, label='Validation Accuracy')\n",
        "plt.title('Accuracy Over Epochs')\n",
        "plt.xlabel('Epochs')\n",
        "plt.ylabel('Accuracy')\n",
        "plt.legend()"
      ],
      "metadata": {
        "colab": {
          "base_uri": "https://localhost:8080/",
          "height": 504
        },
        "id": "Ym4ieM5eQLIE",
        "outputId": "6d917f8f-495b-49b4-d8d8-eb173be2a375"
      },
      "execution_count": 16,
      "outputs": [
        {
          "output_type": "execute_result",
          "data": {
            "text/plain": [
              "<matplotlib.legend.Legend at 0x7c41a88c11c0>"
            ]
          },
          "metadata": {},
          "execution_count": 16
        },
        {
          "output_type": "display_data",
          "data": {
            "text/plain": [
              "<Figure size 1200x500 with 1 Axes>"
            ],
            "image/png": "[encoded data removed]"
          },
          "metadata": {}
        }
      ]
    },
    {
      "cell_type": "code",
      "source": [
        "plt.subplot(1, 2, 2)\n",
        "plt.plot(epochs, train_loss, label='Train Loss')\n",
        "plt.plot(epochs, val_loss, label='Validation Loss')\n",
        "plt.title('Loss Over Epochs')\n",
        "plt.xlabel('Epochs')\n",
        "plt.ylabel('Loss')\n",
        "plt.legend()\n",
        "plt.tight_layout()\n",
        "plt.show()"
      ],
      "metadata": {
        "colab": {
          "base_uri": "https://localhost:8080/",
          "height": 487
        },
        "id": "klM6pTh0QNeo",
        "outputId": "22779478-dbc6-4783-9de2-67aa0ef833ab"
      },
      "execution_count": 17,
      "outputs": [
        {
          "output_type": "display_data",
          "data": {
            "text/plain": [
              "<Figure size 640x480 with 1 Axes>"
            ],
            "image/png": "[encoded data removed]"
          },
          "metadata": {}
        }
      ]
    },
    {
      "cell_type": "markdown",
      "source": [
        "Short Analysis of Hyperparameters Impact :\n",
        "\n",
        "1. Learning Rate (lr):\n",
        "\n",
        "     Too high → unstable training\n",
        "\n",
        "    too low → slow convergence\n",
        "\n",
        "2. Optimizer:\n",
        "\n",
        "    Adam often converges faster than SGD on EMNIST.\n",
        "\n",
        "3. Conv Filters:\n",
        "\n",
        "   More filters → better feature extraction but more parameters.\n",
        "\n",
        "   Fewer filters (e.g., 16) → less expressive power, may miss subtle patterns in letters.\n",
        "\n",
        "4. Dropout:\n",
        "\n",
        "    Low dropout (0–0.3) → less regularization → might overfit on small datasets.\n",
        "\n",
        "    High dropout (0.5–0.7) → strong regularization → can underfit if network is small."
      ],
      "metadata": {
        "id": "9oraz9crXs2G"
      }
    },
    {
      "cell_type": "markdown",
      "source": [
        "\n",
        "📌EMNIST CNN Hyperparameter Sweep Results :\n",
        "\n",
        "We performed a hyperparameter sweep on a simple CNN model for the EMNIST dataset, testing different configurations of convolutional filters, dropout rates, optimizers, and learning rates. The best run (Run lyric-sweep-2) achieved a training accuracy of 83.7% and a validation accuracy of 86.5% after 5 epochs, with corresponding losses of 0.473 for training and 0.388 for validation.\n",
        "\n",
        "This configuration used 16 convolutional filters, a dropout rate of 0.3, Adam optimizer, and a relatively high learning rate of 0.01. Despite the smaller number of filters, the model generalized well, likely due to the regularizing effect of dropout. The high learning rate allowed the optimizer to converge quickly, though care must be taken in other configurations to avoid instability."
      ],
      "metadata": {
        "id": "-ACwy44naugX"
      }
    }
  ]
}